{
 "cells": [
  {
   "cell_type": "code",
   "execution_count": 1,
   "id": "67df02cc-84de-4d09-8a7d-3cad42c7c68f",
   "metadata": {},
   "outputs": [],
   "source": [
    "import numpy as np\n",
    "import json\n",
    "import copy"
   ]
  },
  {
   "cell_type": "code",
   "execution_count": 91,
   "id": "532a25ee-21d6-4c4d-b807-77015dcf4229",
   "metadata": {},
   "outputs": [],
   "source": [
    "class Job:\n",
    "    def __init__(self, jid, Sj, rj, dj, wj):\n",
    "        self.id = jid # job id\n",
    "        self.S = Sj   # sequence of id of Tasks (list)\n",
    "        self.r = rj   # release date\n",
    "        self.d = dj   # due date\n",
    "        self.w = wj   # weight\n",
    "    \n",
    "    def __str__(self):\n",
    "        return f\"id={self.id:>3}  w={self.w:>2}  r:{self.r:>3}  d:{self.d:>3}  \" + \\\n",
    "               f\"min_duration={self.min_duration():>3}  B:{self.B():>3}  \" + \\\n",
    "               f\"C:{self.C():>3}  late?{self.C()>self.d:>1}  delay={max(0, self.C()-self.d):>2}  cost={self.cost():>4}\"\n",
    "    \n",
    "    def min_duration(self):\n",
    "        return np.sum([tasks[tid].p for tid in self.S])\n",
    "    \n",
    "    def min_remaining_duration(self):\n",
    "        return np.sum([tasks[tid].p for tid in self.S if not tasks[tid].done])\n",
    "    \n",
    "    def B(self):\n",
    "        return tasks[self.S[0]].B # beginning date\n",
    "    \n",
    "    def C(self):\n",
    "        return tasks[self.S[-1]].C # completion date\n",
    "    \n",
    "    def cost(self):\n",
    "        C = self.C()\n",
    "        T = max(C - self.d, 0)\n",
    "        U = 1 if T > 0 else 0\n",
    "        return self.w * (C + alpha*U + beta*T)\n",
    "\n",
    "class Task:\n",
    "    def __init__(self, tid, jid, pi, workers):\n",
    "        self.id = tid          # Task id\n",
    "        self.jid = jid         # Job id of corresponding Job\n",
    "        self.p = pi            # processing time\n",
    "        self.workers = workers # possible Workers for this Task (list)\n",
    "        self.B = None          # beginning date\n",
    "        self.C = None          # completion date\n",
    "        self.running = False\n",
    "        self.done = False\n",
    "        self.mid = None        # id of Machine on which task runs\n",
    "        self.oid = None        # id of Operator doing this task\n",
    "        \n",
    "    def __str__(self):\n",
    "        j = jobs[self.jid]\n",
    "        l_workers = \"[\"\n",
    "        for w in self.workers:\n",
    "            tmp = str(w.mid) + ':' + str(w.oid) + ' '\n",
    "            l_workers += tmp\n",
    "        l_workers += ']'\n",
    "        return f\"id={self.id:>3}  job={self.jid:>3}  B:{self.B:>3}  C:{self.C:>3}  \" + \\\n",
    "               f\"(p:{self.p:>2})  (delay:{self.delay():>2})  \" + \\\n",
    "               f\"m:{self.mid:>2}  o:{self.oid:>2}  workers:{l_workers}\"\n",
    "    \n",
    "    def delay(self):\n",
    "        return int(self.B - (jobs[self.jid].r + np.sum([tasks[tid2].p for tid2 in jobs[self.jid].S if tid2 < self.id])))\n",
    "        \n",
    "class Worker:\n",
    "    def __init__(self, mid, oid):\n",
    "        self.mid = mid # id of Machine used\n",
    "        self.oid = oid # id of Operator working\n",
    "        \n",
    "    def __str__(self):\n",
    "        return f\"machine={self.mid} operator:{self.oid}\"\n",
    "    \n",
    "class WorkUnit:\n",
    "    def __init__(self, time, jid, t_idx, tid, w):\n",
    "        self.time = time   # time at which WorkUnit is considered to start\n",
    "        self.jid = jid     # Job id\n",
    "        self.t_idx = t_idx # index of Task in Job's Tasks sequence\n",
    "        self.tid = tid     # Task id\n",
    "        self.w = w         # Worker\n",
    "        \n",
    "    def __str__(self):\n",
    "        return f\"{self.time}  job:{self.jid}  task:{self.tid}  worker:{self.w.__str__()}\""
   ]
  },
  {
   "cell_type": "code",
   "execution_count": 92,
   "id": "0a21ed9f-9502-4069-a5e7-0b84424f0fac",
   "metadata": {},
   "outputs": [],
   "source": [
    "def parser_job(job):\n",
    "    jid = job['job']\n",
    "    Sj  = job['sequence']\n",
    "    rj  = job['release_date']\n",
    "    dj  = job['due_date']\n",
    "    wj  = job['weight']\n",
    "    return Job(jid, Sj, rj, dj, wj)\n",
    "\n",
    "def parser_task(task, jid):\n",
    "    tid = task['task']\n",
    "    pi  = task['processing_time']\n",
    "    workers = []\n",
    "    for machine in task['machines']:\n",
    "        mid = machine['machine']\n",
    "        for operator in machine['operators']:\n",
    "            oid = operator\n",
    "            workers.append(Worker(mid, oid))\n",
    "    return Task(tid, jid, pi, workers)\n",
    "\n",
    "def parser_inst(inst):\n",
    "    J = inst['parameters']['size']['nb_jobs']\n",
    "    I = inst['parameters']['size']['nb_tasks']\n",
    "    M = inst['parameters']['size']['nb_machines']\n",
    "    O = inst['parameters']['size']['nb_operators']\n",
    "    alpha = inst['parameters']['costs']['unit_penalty']\n",
    "    beta = inst['parameters']['costs']['tardiness']\n",
    "    \n",
    "    machines  = {} # storing machines' availability by id\n",
    "    operators = {} # storing operators' availability by id\n",
    "    jobs  = (J+1) * [None]                          # list of Jobs\n",
    "    jobs[0] = Job(jid=0, Sj=[], rj=-1, dj=-1, wj=0) # dummy element 0\n",
    "    tasks = (I+1) * [None]                          # list of Tasks\n",
    "    tasks[0] = Task(tid=0, jid=0, pi=0, workers=[]) # dummy element 0\n",
    "    for job in inst['jobs']:\n",
    "        jid = job['job']\n",
    "        jobs[jid] = parser_job(job) # add Job in list of Jobs\n",
    "        for task in inst['tasks']:\n",
    "            tid = task['task']\n",
    "            if tid in jobs[jid].S:\n",
    "                tasks[tid] = parser_task(task, jid) # add task in list of Tasks\n",
    "                for machine in task['machines']:\n",
    "                    mid = machine['machine']\n",
    "                    for operator in machine['operators']:\n",
    "                        oid = operator\n",
    "                        machines[mid]  = True # set machine to available\n",
    "                        operators[oid] = True # set operator to available\n",
    "    \n",
    "    return (J, I, M, O, alpha, beta, jobs, tasks, machines, operators)"
   ]
  },
  {
   "cell_type": "code",
   "execution_count": 93,
   "id": "db8c06b6-11f1-4b6d-8cfd-d43887fc1f9d",
   "metadata": {},
   "outputs": [],
   "source": [
    "def optim():\n",
    "    time = 0\n",
    "    while (np.sum([t.done for t in tasks]) < I):\n",
    "        for t in tasks:\n",
    "            if t.running:\n",
    "                if (time - t.B >= t.p):\n",
    "                    t.running = False # task ends\n",
    "                    t.done = True     # task is done\n",
    "                    machines[t.mid]  = True # free machine\n",
    "                    operators[t.oid] = True # free operator\n",
    "                    t.C = time              # set completion time\n",
    "        \n",
    "        for j in jobs:\n",
    "            if time >= j.r: # it is past the release date of this Job\n",
    "                for (t_idx, tid) in enumerate(j.S): # loop over Tasks for this Job\n",
    "                    t = tasks[tid]      # get Task from its id\n",
    "                    for w in t.workers: # look for a Worker (machine, operator) to execute Task\n",
    "                        if operators[w.oid] \\\n",
    "                        and machines[w.mid] \\\n",
    "                        and not t.running \\\n",
    "                        and not t.done \\\n",
    "                        and np.all([tasks[tid2].done for tid2 in j.S[:t_idx]]): # all Job's previous Tasks are done\n",
    "                            t.running = True # set task to running\n",
    "                            t.B = time       # set beginning time\n",
    "                            t.mid = w.mid    # set machine id for task\n",
    "                            t.oid = w.oid    # set operator id for task\n",
    "                            machines[w.mid]  = False   # set machine to busy\n",
    "                            operators[w.oid] = False   # set operator to busy\n",
    "\n",
    "        time += 1 # time flows"
   ]
  },
  {
   "cell_type": "code",
   "execution_count": 113,
   "id": "2d318def-2516-491b-8733-7e8a85fbca26",
   "metadata": {},
   "outputs": [],
   "source": [
    "def optim2():\n",
    "    \n",
    "    ########## SUBROUTINE ##########\n",
    "    def get_admissible_work_units():\n",
    "        work_units = []\n",
    "        for j in jobs:\n",
    "            if time >= j.r: # it is past the release date of this Job\n",
    "                for (t_idx, tid) in enumerate(j.S): # loop over Tasks for this Job\n",
    "                    t = tasks[tid] # get Task from its id\n",
    "                    if (not t.running) \\\n",
    "                    and (not t.done) \\\n",
    "                    and np.all([tasks[tid2].done for tid2 in j.S[:t_idx]]): # all Job's previous Tasks are done\n",
    "                        for w in t.workers: # look for a Worker (machine, operator) to execute Task\n",
    "                            if operators[w.oid] and machines[w.mid]: # Worker is free\n",
    "                                work_units.append(WorkUnit(time, j.id, t_idx, tid, w))\n",
    "        return work_units\n",
    "    ################################\n",
    "    \n",
    "    time = 0\n",
    "    while (np.sum([t.done for t in tasks]) < I):\n",
    "        \n",
    "        ################# UPDATE RUNNING TASKS ##################\n",
    "        for t in tasks:\n",
    "            if t.running:\n",
    "                if (time - t.B >= t.p):\n",
    "                    t.running = False # task ends\n",
    "                    t.done = True     # task is done\n",
    "                    machines[t.mid]  = True # free machine\n",
    "                    operators[t.oid] = True # free operator\n",
    "                    t.C = time              # set completion time\n",
    "        #########################################################\n",
    "        \n",
    "        work_units = get_admissible_work_units()\n",
    "        while len(work_units) > 0: # while we can still start tasks\n",
    "            work_units = sorted(work_units, key=WU_weight)\n",
    "            #chosen_work_unit = np.random.choice(work_units)\n",
    "            chosen_work_unit = work_units[-1] # choose the work unit with the biggest weight to finish it at the earliest\n",
    "            t = tasks[chosen_work_unit.tid]\n",
    "            w = chosen_work_unit.w\n",
    "            t.running = True # set task to running\n",
    "            t.B = time       # set beginning time\n",
    "            t.mid = w.mid    # set machine id for task\n",
    "            t.oid = w.oid    # set operator id for task\n",
    "            machines[w.mid]  = False   # set machine to busy\n",
    "            operators[w.oid] = False   # set operator to busy\n",
    "            \n",
    "            work_units = get_admissible_work_units()\n",
    "                    \n",
    "        time += 1 # time flows"
   ]
  },
  {
   "cell_type": "code",
   "execution_count": 114,
   "id": "dc20f679-e422-4ee2-9ff3-0686e4d33a3e",
   "metadata": {},
   "outputs": [],
   "source": [
    "def cost(jobs):\n",
    "    s = 0\n",
    "    for job in jobs[1:]:\n",
    "        C = job.C()\n",
    "        T = max(C - job.d, 0)\n",
    "        U = 1 if T > 0 else 0\n",
    "        s += job.w * (C + alpha*U + beta*T)\n",
    "    return s"
   ]
  },
  {
   "cell_type": "code",
   "execution_count": 115,
   "id": "69cfce61-d2f9-473b-87e3-082ab515f400",
   "metadata": {},
   "outputs": [],
   "source": [
    "def jsonify(tasks):\n",
    "    res = []\n",
    "    for task in tasks[1:]:\n",
    "        sub_res = {}\n",
    "        sub_res['task'], sub_res['start'], sub_res['machine'], sub_res['operator'] = task.id, task.B, task.mid, task.oid\n",
    "        res.append(sub_res)\n",
    "    return res"
   ]
  },
  {
   "cell_type": "code",
   "execution_count": 125,
   "id": "b9adf709-7fcd-45b9-81b1-4d5e792c9749",
   "metadata": {},
   "outputs": [],
   "source": [
    "def WU_weight(work_unit):\n",
    "    j = jobs[work_unit.jid]  # corresponding Job\n",
    "    t = tasks[work_unit.tid] # corresponding Task\n",
    "    C = work_unit.time + j.min_remaining_duration() # proxy for job completion time\n",
    "    T = max(C - j.d, 0)\n",
    "    U = 1 if T > 0 else 0\n",
    "    return w1*j.w*C + w2*j.w*j.d + w3*j.w*alpha*U + w4*j.w*beta*T"
   ]
  },
  {
   "cell_type": "markdown",
   "id": "d891de0c-f1df-4038-8bbd-78530fc98033",
   "metadata": {},
   "source": [
    "---"
   ]
  },
  {
   "cell_type": "code",
   "execution_count": 117,
   "id": "4f06bfd4-44b8-454f-aad8-6248001cf8d2",
   "metadata": {},
   "outputs": [],
   "source": [
    "in_filename = \"instances/tiny.json\"\n",
    "with open(in_filename, 'rb') as f:\n",
    "    inst = json.load(f)"
   ]
  },
  {
   "cell_type": "code",
   "execution_count": 118,
   "id": "577f474d-e604-44bd-b5a9-3017459f359b",
   "metadata": {},
   "outputs": [
    {
     "name": "stdout",
     "output_type": "stream",
     "text": [
      "J=5\n",
      "I=25\n",
      "M=8\n",
      "O=8\n",
      "α=6\n",
      "β=1\n"
     ]
    }
   ],
   "source": [
    "(J, I, M, O, alpha, beta, jobs, tasks, machines, operators) = parser_inst(inst)\n",
    "print(f\"J={J}\\nI={I}\\nM={M}\\nO={O}\\nα={alpha}\\nβ={beta}\")"
   ]
  },
  {
   "cell_type": "code",
   "execution_count": 122,
   "id": "d50dd783-3811-4b2e-b40e-99d4797fba95",
   "metadata": {},
   "outputs": [
    {
     "data": {
      "text/plain": [
       "579"
      ]
     },
     "execution_count": 122,
     "metadata": {},
     "output_type": "execute_result"
    }
   ],
   "source": [
    "(J, I, M, O, alpha, beta, jobs, tasks, machines, operators) = parser_inst(inst)\n",
    "w1, w2, w3, w4 = 1, -1, 0, 0 # default weights, working OK\n",
    "optim2()\n",
    "cost(jobs)"
   ]
  },
  {
   "cell_type": "code",
   "execution_count": 12,
   "id": "f1e76cda-49d1-44d0-824b-4b3d5a92dea8",
   "metadata": {},
   "outputs": [
    {
     "name": "stdout",
     "output_type": "stream",
     "text": [
      "10...  465\n",
      "20...  465\n",
      "30...  465\n",
      "40...  465\n",
      "50...  465\n",
      "60...  465\n",
      "70...  465\n",
      "80...  465\n",
      "90...  465\n",
      "100...  465\n"
     ]
    }
   ],
   "source": [
    "best_cost = 10**6\n",
    "for _ in range(1, 100+1):\n",
    "    if _ % 10 == 0:\n",
    "        print(f\"{_}... \", end=' ')\n",
    "        print(best_cost)\n",
    "    (J, I, M, O, alpha, beta, jobs, tasks, machines, operators) = parser_inst(inst)\n",
    "    optim2()\n",
    "    candidate_cost = cost(jobs)\n",
    "    if candidate_cost <= best_cost:\n",
    "        best_cost = candidate_cost"
   ]
  },
  {
   "cell_type": "code",
   "execution_count": 123,
   "id": "839fd4f6-2da6-4e3a-b85e-7d833d8fbcaa",
   "metadata": {},
   "outputs": [
    {
     "name": "stdout",
     "output_type": "stream",
     "text": [
      "id=  4  w=14  r:  5  d: 19  min_duration= 14  B:  5  C: 19  late?0  delay= 0  cost= 266\n",
      "id=  2  w= 9  r:  1  d: 10  min_duration=  9  B:  1  C: 12  late?1  delay= 2  cost= 180\n",
      "id=  1  w= 6  r:  2  d:  8  min_duration=  6  B:  2  C:  9  late?1  delay= 1  cost=  96\n",
      "id=  3  w= 3  r:  6  d:  9  min_duration=  3  B:  6  C:  9  late?0  delay= 0  cost=  27\n",
      "id=  5  w= 1  r:  9  d: 10  min_duration=  1  B:  9  C: 10  late?0  delay= 0  cost=  10\n"
     ]
    }
   ],
   "source": [
    "for j in sorted(jobs[1:], key=lambda j: -j.cost())[:20]:\n",
    "    print(j)"
   ]
  },
  {
   "cell_type": "code",
   "execution_count": 124,
   "id": "4c7b7a21-c921-407c-b878-a152bfc5fd82",
   "metadata": {},
   "outputs": [
    {
     "name": "stdout",
     "output_type": "stream",
     "text": [
      "id=  2  job=  2  B:  1  C:  2  (p: 1)  (delay: 0)  m: 6  o: 5  workers:[6:1 6:2 6:3 6:5 ]\n",
      "id=  1  job=  1  B:  2  C:  3  (p: 1)  (delay: 0)  m: 1  o: 7  workers:[1:1 1:4 1:5 1:7 ]\n",
      "id=  8  job=  2  B:  2  C:  3  (p: 1)  (delay: 0)  m: 7  o: 6  workers:[4:2 7:2 7:6 ]\n",
      "id=  9  job=  1  B:  3  C:  4  (p: 1)  (delay: 0)  m: 6  o: 4  workers:[6:1 6:2 6:4 6:8 ]\n",
      "id= 14  job=  2  B:  3  C:  5  (p: 2)  (delay: 0)  m: 8  o: 8  workers:[1:2 1:6 1:8 5:5 8:2 8:6 8:8 ]\n",
      "id= 18  job=  2  B:  5  C:  6  (p: 1)  (delay: 0)  m: 5  o: 6  workers:[1:2 1:3 1:5 1:6 5:2 5:3 5:5 5:6 5:7 ]\n",
      "id=  4  job=  4  B:  5  C:  7  (p: 2)  (delay: 0)  m: 7  o: 7  workers:[2:1 2:2 2:4 2:5 2:7 7:2 7:4 7:5 7:7 7:8 ]\n",
      "id= 10  job=  1  B:  5  C:  6  (p: 1)  (delay: 1)  m: 8  o: 8  workers:[8:3 8:5 8:8 ]\n",
      "id= 15  job=  1  B:  6  C:  8  (p: 2)  (delay: 1)  m: 1  o: 8  workers:[1:2 1:4 1:7 1:8 7:4 7:7 7:8 ]\n",
      "id=  3  job=  3  B:  6  C:  7  (p: 1)  (delay: 0)  m: 4  o: 4  workers:[4:1 4:4 4:7 ]\n",
      "id=  6  job=  4  B:  7  C:  9  (p: 2)  (delay: 0)  m: 3  o: 2  workers:[1:1 1:2 3:2 3:8 ]\n",
      "id=  7  job=  3  B:  7  C:  8  (p: 1)  (delay: 0)  m: 5  o: 7  workers:[5:1 5:2 5:3 5:7 5:8 ]\n",
      "id= 20  job=  2  B:  8  C: 10  (p: 2)  (delay: 2)  m: 1  o: 7  workers:[1:6 1:7 ]\n",
      "id= 16  job=  1  B:  8  C:  9  (p: 1)  (delay: 1)  m: 5  o: 6  workers:[5:2 5:3 5:5 5:6 5:7 ]\n",
      "id= 19  job=  3  B:  8  C:  9  (p: 1)  (delay: 0)  m: 8  o: 8  workers:[1:4 1:5 1:7 2:1 2:4 2:5 2:7 6:4 6:7 6:8 8:1 8:7 8:8 ]\n",
      "id=  5  job=  5  B:  9  C: 10  (p: 1)  (delay: 0)  m: 6  o: 6  workers:[2:1 2:2 2:3 2:4 2:6 2:8 6:2 6:3 6:4 6:6 ]\n",
      "id= 11  job=  4  B:  9  C: 11  (p: 2)  (delay: 0)  m: 8  o: 8  workers:[1:8 3:8 4:7 4:8 7:1 7:7 7:8 8:1 8:7 8:8 ]\n",
      "id= 22  job=  2  B: 10  C: 11  (p: 1)  (delay: 2)  m: 5  o: 7  workers:[5:4 5:7 8:3 8:4 8:5 ]\n",
      "id= 24  job=  2  B: 11  C: 12  (p: 1)  (delay: 2)  m: 4  o: 7  workers:[2:2 2:6 4:2 4:4 4:7 ]\n",
      "id= 12  job=  4  B: 11  C: 12  (p: 1)  (delay: 0)  m: 7  o: 8  workers:[2:2 2:3 2:4 2:7 2:8 3:2 3:3 3:4 3:5 3:7 3:8 5:2 5:3 5:4 5:5 5:7 5:8 7:2 7:7 7:8 ]\n",
      "id= 13  job=  4  B: 12  C: 13  (p: 1)  (delay: 0)  m: 6  o: 8  workers:[3:2 3:4 3:7 6:2 6:4 6:7 6:8 ]\n",
      "id= 17  job=  4  B: 13  C: 15  (p: 2)  (delay: 0)  m: 7  o: 7  workers:[2:5 6:5 6:7 7:7 ]\n",
      "id= 21  job=  4  B: 15  C: 17  (p: 2)  (delay: 0)  m: 6  o: 7  workers:[3:8 4:7 6:5 6:7 ]\n",
      "id= 23  job=  4  B: 17  C: 18  (p: 1)  (delay: 0)  m: 8  o: 7  workers:[3:5 5:7 8:5 8:7 ]\n",
      "id= 25  job=  4  B: 18  C: 19  (p: 1)  (delay: 0)  m: 8  o: 8  workers:[5:4 5:6 5:8 7:6 7:8 8:1 8:6 8:8 ]\n"
     ]
    }
   ],
   "source": [
    "for t in sorted(tasks[1:], key=lambda t: (t.B, t.mid, t.oid))[:30]:\n",
    "    print(t)"
   ]
  },
  {
   "cell_type": "code",
   "execution_count": null,
   "id": "28fb0c38-813b-4588-aa34-d43174c9a3ec",
   "metadata": {},
   "outputs": [],
   "source": []
  },
  {
   "cell_type": "code",
   "execution_count": null,
   "id": "bc280433-9600-4438-9802-49b065d4705e",
   "metadata": {},
   "outputs": [],
   "source": []
  },
  {
   "cell_type": "markdown",
   "id": "2c633651-76f6-4605-b4d1-a1cd23b7f850",
   "metadata": {},
   "source": [
    "---"
   ]
  },
  {
   "cell_type": "code",
   "execution_count": 16,
   "id": "50ba3f90-875e-4f94-8171-dbade7384470",
   "metadata": {},
   "outputs": [],
   "source": [
    "#out_filename = \"solutions/KIRO-huge.json\"\n",
    "#with open(out_filename, 'w') as f:\n",
    "#    json.dump(jsonify(tasks), f)"
   ]
  },
  {
   "cell_type": "code",
   "execution_count": null,
   "id": "d4d9a401-743a-4912-a408-d8cb73b7f8f4",
   "metadata": {},
   "outputs": [],
   "source": []
  }
 ],
 "metadata": {
  "kernelspec": {
   "display_name": "Python 3 (ipykernel)",
   "language": "python",
   "name": "python3"
  },
  "language_info": {
   "codemirror_mode": {
    "name": "ipython",
    "version": 3
   },
   "file_extension": ".py",
   "mimetype": "text/x-python",
   "name": "python",
   "nbconvert_exporter": "python",
   "pygments_lexer": "ipython3",
   "version": "3.9.15"
  }
 },
 "nbformat": 4,
 "nbformat_minor": 5
}
