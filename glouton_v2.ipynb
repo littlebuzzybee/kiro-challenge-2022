{
 "cells": [
  {
   "cell_type": "code",
   "execution_count": 1,
   "id": "67df02cc-84de-4d09-8a7d-3cad42c7c68f",
   "metadata": {},
   "outputs": [],
   "source": [
    "import numpy as np\n",
    "import json"
   ]
  },
  {
   "cell_type": "code",
   "execution_count": 2,
   "id": "532a25ee-21d6-4c4d-b807-77015dcf4229",
   "metadata": {},
   "outputs": [],
   "source": [
    "class Job:\n",
    "    def __init__(self, jid, Sj, rj, dj, wj):\n",
    "        self.id = jid # job id\n",
    "        self.S = Sj   # sequence of id of Tasks (list)\n",
    "        self.r = rj   # release date\n",
    "        self.d = dj   # due date\n",
    "        self.w = wj   # weight\n",
    "    \n",
    "    def __str__(self):\n",
    "        return f\"id={self.id:>3}  w={self.w:>2}  r:{self.r:>3}  d:{self.d:>3}  \" + \\\n",
    "               f\"min_duration={self.min_duration():>3}  B:{self.B():>3}  \" + \\\n",
    "               f\"C:{self.C():>3}  late?{self.C()>self.d:>1}  delay={max(0, self.C()-self.d):>2}  cost={self.cost():>4}\"\n",
    "    \n",
    "    def min_duration(self):\n",
    "        return np.sum([tasks[tid].p for tid in self.S])\n",
    "    \n",
    "    def min_remaining_duration(self):\n",
    "        return np.sum([tasks[tid].p for tid in self.S if not tasks[tid].done])\n",
    "    \n",
    "    def B(self):\n",
    "        return tasks[self.S[0]].B # beginning date\n",
    "    \n",
    "    def C(self):\n",
    "        return tasks[self.S[-1]].C # completion date\n",
    "    \n",
    "    def cost(self):\n",
    "        C = self.C()\n",
    "        T = max(C - self.d, 0)\n",
    "        U = 1 if T > 0 else 0\n",
    "        return self.w * (C + alpha*U + beta*T)\n",
    "\n",
    "class Task:\n",
    "    def __init__(self, tid, jid, pi, workers):\n",
    "        self.id = tid          # Task id\n",
    "        self.jid = jid         # Job id of corresponding Job\n",
    "        self.p = pi            # processing time\n",
    "        self.workers = workers # possible Workers for this Task (list)\n",
    "        self.B = None          # beginning date\n",
    "        self.C = None          # completion date\n",
    "        self.running = False\n",
    "        self.done = False\n",
    "        self.mid = None        # id of Machine on which task runs\n",
    "        self.oid = None        # id of Operator doing this task\n",
    "        \n",
    "    def __str__(self):\n",
    "        j = jobs[self.jid]\n",
    "        delay = int(self.B - (j.r + np.sum([tasks[tid2].p for tid2 in jobs[self.jid].S if tid2 < self.id])))\n",
    "        return f\"id={self.id:>3}  job={self.jid:>3}  begin:{self.B:>3}  complete:{self.C:>3}  \" + \\\n",
    "               f\"(time:{self.p:>2})  (delay:{delay:>2})  \" + \\\n",
    "               f\"machine:{self.mid:>2}  operator:{self.oid:>2}\"\n",
    "        \n",
    "class Worker:\n",
    "    def __init__(self, mid, oid):\n",
    "        self.mid = mid # id of Machine used\n",
    "        self.oid = oid # id of Operator working\n",
    "        \n",
    "    def __str__(self):\n",
    "        return f\"machine={self.mid} operator:{self.oid}\"\n",
    "    \n",
    "class WorkUnit:\n",
    "    def __init__(self, time, jid, t_idx, tid, w):\n",
    "        self.time = time   # time at which WorkUnit is considered to start\n",
    "        self.jid = jid     # Job id\n",
    "        self.t_idx = t_idx # index of Task in Job's Tasks sequence\n",
    "        self.tid = tid     # Task id\n",
    "        self.w = w         # Worker"
   ]
  },
  {
   "cell_type": "code",
   "execution_count": 3,
   "id": "0a21ed9f-9502-4069-a5e7-0b84424f0fac",
   "metadata": {},
   "outputs": [],
   "source": [
    "def parser_job(job):\n",
    "    jid = job['job']\n",
    "    Sj  = job['sequence']\n",
    "    rj  = job['release_date']\n",
    "    dj  = job['due_date']\n",
    "    wj  = job['weight']\n",
    "    return Job(jid, Sj, rj, dj, wj)\n",
    "\n",
    "def parser_task(task, jid):\n",
    "    tid = task['task']\n",
    "    pi  = task['processing_time']\n",
    "    workers = []\n",
    "    for machine in task['machines']:\n",
    "        mid = machine['machine']\n",
    "        for operator in machine['operators']:\n",
    "            oid = operator\n",
    "            workers.append(Worker(mid, oid))\n",
    "    return Task(tid, jid, pi, workers)\n",
    "\n",
    "def parser_inst(inst):\n",
    "    J = inst['parameters']['size']['nb_jobs']\n",
    "    I = inst['parameters']['size']['nb_tasks']\n",
    "    M = inst['parameters']['size']['nb_machines']\n",
    "    O = inst['parameters']['size']['nb_operators']\n",
    "    alpha = inst['parameters']['costs']['unit_penalty']\n",
    "    beta = inst['parameters']['costs']['tardiness']\n",
    "    \n",
    "    machines  = {} # storing machines' availability by id\n",
    "    operators = {} # storing operators' availability by id\n",
    "    jobs  = (J+1) * [None]                          # list of Jobs\n",
    "    jobs[0] = Job(jid=0, Sj=[], rj=-1, dj=-1, wj=0) # dummy element 0\n",
    "    tasks = (I+1) * [None]                          # list of Tasks\n",
    "    tasks[0] = Task(tid=0, jid=0, pi=0, workers=[]) # dummy element 0\n",
    "    for job in inst['jobs']:\n",
    "        jid = job['job']\n",
    "        jobs[jid] = parser_job(job) # add Job in list of Jobs\n",
    "        for task in inst['tasks']:\n",
    "            tid = task['task']\n",
    "            if tid in jobs[jid].S:\n",
    "                tasks[tid] = parser_task(task, jid) # add task in list of Tasks\n",
    "                for machine in task['machines']:\n",
    "                    mid = machine['machine']\n",
    "                    for operator in machine['operators']:\n",
    "                        oid = operator\n",
    "                        machines[mid]  = True # set machine to available\n",
    "                        operators[oid] = True # set operator to available\n",
    "    \n",
    "    return (J, I, M, O, alpha, beta, jobs, tasks, machines, operators)"
   ]
  },
  {
   "cell_type": "code",
   "execution_count": 4,
   "id": "db8c06b6-11f1-4b6d-8cfd-d43887fc1f9d",
   "metadata": {},
   "outputs": [],
   "source": [
    "def optim():\n",
    "    time = 0\n",
    "    while (np.sum([t.done for t in tasks]) < I):\n",
    "        for t in tasks:\n",
    "            if t.running:\n",
    "                if (time - t.B >= t.p):\n",
    "                    t.running = False # task ends\n",
    "                    t.done = True     # task is done\n",
    "                    machines[t.mid]  = True # free machine\n",
    "                    operators[t.oid] = True # free operator\n",
    "                    t.C = time              # set completion time\n",
    "        \n",
    "        for j in jobs:\n",
    "            if time >= j.r: # it is past the release date of this Job\n",
    "                for (t_idx, tid) in enumerate(j.S): # loop over Tasks for this Job\n",
    "                    t = tasks[tid]      # get Task from its id\n",
    "                    for w in t.workers: # look for a Worker (machine, operator) to execute Task\n",
    "                        if operators[w.oid] \\\n",
    "                        and machines[w.mid] \\\n",
    "                        and not t.running \\\n",
    "                        and not t.done \\\n",
    "                        and np.all([tasks[tid2].done for tid2 in j.S[:t_idx]]): # all Job's previous Tasks are done\n",
    "                            t.running = True # set task to running\n",
    "                            t.B = time       # set beginning time\n",
    "                            t.mid = w.mid    # set machine id for task\n",
    "                            t.oid = w.oid    # set operator id for task\n",
    "                            machines[w.mid]  = False   # set machine to busy\n",
    "                            operators[w.oid] = False   # set operator to busy\n",
    "\n",
    "        time += 1 # time flows"
   ]
  },
  {
   "cell_type": "code",
   "execution_count": 5,
   "id": "2d318def-2516-491b-8733-7e8a85fbca26",
   "metadata": {},
   "outputs": [],
   "source": [
    "def optim2():\n",
    "    \n",
    "    ########## SUBROUTINE ##########\n",
    "    def get_admissible_work_units():\n",
    "        work_units = []\n",
    "        for j in jobs:\n",
    "            if time >= j.r: # it is past the release date of this Job\n",
    "                for (t_idx, tid) in enumerate(j.S): # loop over Tasks for this Job\n",
    "                    t = tasks[tid] # get Task from its id\n",
    "                    if (not t.running) \\\n",
    "                    and (not t.done) \\\n",
    "                    and np.all([tasks[tid2].done for tid2 in j.S[:t_idx]]): # all Job's previous Tasks are done\n",
    "                        for w in t.workers: # look for a Worker (machine, operator) to execute Task\n",
    "                            if operators[w.oid] and machines[w.mid]: # Worker is free\n",
    "                                work_units.append(WorkUnit(time, j.id, t_idx, tid, w))\n",
    "        return work_units\n",
    "    ################################\n",
    "    \n",
    "    time = 0\n",
    "    while (np.sum([t.done for t in tasks]) < I):\n",
    "        \n",
    "        ################# UPDATE RUNNING TASKS ##################\n",
    "        for t in tasks:\n",
    "            if t.running:\n",
    "                if (time - t.B >= t.p):\n",
    "                    t.running = False # task ends\n",
    "                    t.done = True     # task is done\n",
    "                    machines[t.mid]  = True # free machine\n",
    "                    operators[t.oid] = True # free operator\n",
    "                    t.C = time              # set completion time\n",
    "        #########################################################\n",
    "        \n",
    "        work_units = get_admissible_work_units()\n",
    "        while len(work_units) > 0: # while we can still start tasks\n",
    "            work_units = sorted(work_units, key=WU_weight)\n",
    "            chosen_work_unit = work_units[-1] # choose the work unit with the biggest weight to finish it at the earliest\n",
    "            t = tasks[chosen_work_unit.tid]\n",
    "            w = chosen_work_unit.w\n",
    "            t.running = True # set task to running\n",
    "            t.B = time       # set beginning time\n",
    "            t.mid = w.mid    # set machine id for task\n",
    "            t.oid = w.oid    # set operator id for task\n",
    "            machines[w.mid]  = False   # set machine to busy\n",
    "            operators[w.oid] = False   # set operator to busy\n",
    "            \n",
    "            work_units = get_admissible_work_units()\n",
    "                    \n",
    "        time += 1 # time flows"
   ]
  },
  {
   "cell_type": "code",
   "execution_count": 6,
   "id": "dc20f679-e422-4ee2-9ff3-0686e4d33a3e",
   "metadata": {},
   "outputs": [],
   "source": [
    "def cost(jobs):\n",
    "    s = 0\n",
    "    for job in jobs[1:]:\n",
    "        C = job.C()\n",
    "        T = max(C - job.d, 0)\n",
    "        U = 1 if T > 0 else 0\n",
    "        s += job.w * (C + alpha*U + beta*T)\n",
    "    return s"
   ]
  },
  {
   "cell_type": "code",
   "execution_count": 7,
   "id": "69cfce61-d2f9-473b-87e3-082ab515f400",
   "metadata": {},
   "outputs": [],
   "source": [
    "def jsonify(tasks):\n",
    "    res = []\n",
    "    for task in tasks[1:]:\n",
    "        sub_res = {}\n",
    "        sub_res['task'], sub_res['start'], sub_res['machine'], sub_res['operator'] = task.id, task.B, task.mid, task.oid\n",
    "        res.append(sub_res)\n",
    "    return res"
   ]
  },
  {
   "cell_type": "code",
   "execution_count": 8,
   "id": "b9adf709-7fcd-45b9-81b1-4d5e792c9749",
   "metadata": {},
   "outputs": [],
   "source": [
    "def WU_weight(work_unit):\n",
    "    j = jobs[work_unit.jid]  # corresponding Job\n",
    "    t = tasks[work_unit.tid] # corresponding Task\n",
    "    C = work_unit.time + j.min_remaining_duration() # proxy for job completion time\n",
    "    T = max(C - j.d, 0)\n",
    "    U = 1 if T > 0 else 0\n",
    "    return w1*j.w*C + w2*j.w*j.d + w3*j.w*alpha*T + w4*j.w*beta*U"
   ]
  },
  {
   "cell_type": "markdown",
   "id": "d891de0c-f1df-4038-8bbd-78530fc98033",
   "metadata": {},
   "source": [
    "---"
   ]
  },
  {
   "cell_type": "code",
   "execution_count": 9,
   "id": "4f06bfd4-44b8-454f-aad8-6248001cf8d2",
   "metadata": {},
   "outputs": [],
   "source": [
    "in_filename = \"instances/huge.json\"\n",
    "with open(in_filename, 'rb') as f:\n",
    "    inst = json.load(f)"
   ]
  },
  {
   "cell_type": "code",
   "execution_count": 10,
   "id": "577f474d-e604-44bd-b5a9-3017459f359b",
   "metadata": {},
   "outputs": [
    {
     "name": "stdout",
     "output_type": "stream",
     "text": [
      "J=200\n",
      "I=1000\n",
      "M=50\n",
      "O=30\n",
      "α=6\n",
      "β=1\n"
     ]
    }
   ],
   "source": [
    "(J, I, M, O, alpha, beta, jobs, tasks, machines, operators) = parser_inst(inst)\n",
    "print(f\"J={J}\\nI={I}\\nM={M}\\nO={O}\\nα={alpha}\\nβ={beta}\")"
   ]
  },
  {
   "cell_type": "code",
   "execution_count": 11,
   "id": "d50dd783-3811-4b2e-b40e-99d4797fba95",
   "metadata": {},
   "outputs": [
    {
     "data": {
      "text/plain": [
       "47194"
      ]
     },
     "execution_count": 11,
     "metadata": {},
     "output_type": "execute_result"
    }
   ],
   "source": [
    "(J, I, M, O, alpha, beta, jobs, tasks, machines, operators) = parser_inst(inst)\n",
    "w1, w2, w3, w4 = 1, -1, 0, 0 # default weights, working OK\n",
    "optim2()\n",
    "cost(jobs)"
   ]
  },
  {
   "cell_type": "code",
   "execution_count": 12,
   "id": "839fd4f6-2da6-4e3a-b85e-7d833d8fbcaa",
   "metadata": {},
   "outputs": [
    {
     "name": "stdout",
     "output_type": "stream",
     "text": [
      "id=141  w=16  r:  9  d:116  min_duration= 16  B: 41  C: 60  late?0  delay= 0  cost= 960\n",
      "id=  9  w=16  r:  3  d:132  min_duration= 16  B: 43  C: 59  late?0  delay= 0  cost= 944\n",
      "id=168  w=15  r:  2  d: 90  min_duration= 15  B: 37  C: 52  late?0  delay= 0  cost= 780\n",
      "id=198  w=15  r: 10  d: 96  min_duration= 15  B: 37  C: 52  late?0  delay= 0  cost= 780\n",
      "id= 55  w=13  r:  9  d:114  min_duration= 13  B: 39  C: 54  late?0  delay= 0  cost= 702\n",
      "id= 92  w=12  r:  2  d:118  min_duration= 12  B: 41  C: 58  late?0  delay= 0  cost= 696\n",
      "id= 60  w=12  r:  9  d:149  min_duration= 12  B: 44  C: 56  late?0  delay= 0  cost= 672\n",
      "id=112  w=12  r:  1  d:149  min_duration= 12  B:  1  C: 56  late?0  delay= 0  cost= 672\n",
      "id= 24  w=13  r:  6  d: 81  min_duration= 13  B: 35  C: 51  late?0  delay= 0  cost= 663\n",
      "id=144  w=12  r:  4  d:149  min_duration= 12  B: 42  C: 55  late?0  delay= 0  cost= 660\n",
      "id=114  w=12  r:  8  d: 86  min_duration= 12  B: 41  C: 54  late?0  delay= 0  cost= 648\n",
      "id=180  w=12  r:  6  d:132  min_duration= 12  B: 42  C: 54  late?0  delay= 0  cost= 648\n",
      "id= 53  w=12  r:  5  d: 96  min_duration= 12  B: 41  C: 53  late?0  delay= 0  cost= 636\n",
      "id= 58  w=12  r:  7  d:113  min_duration= 12  B: 40  C: 52  late?0  delay= 0  cost= 624\n",
      "id=113  w=13  r:  6  d: 78  min_duration= 13  B: 34  C: 48  late?0  delay= 0  cost= 624\n",
      "id= 23  w=11  r:  3  d:112  min_duration= 11  B: 41  C: 54  late?0  delay= 0  cost= 594\n",
      "id= 22  w=11  r:  6  d:145  min_duration= 11  B: 40  C: 51  late?0  delay= 0  cost= 561\n",
      "id= 51  w=12  r:  2  d: 73  min_duration= 12  B: 33  C: 45  late?0  delay= 0  cost= 540\n",
      "id=150  w=10  r:  5  d:132  min_duration= 10  B: 39  C: 53  late?0  delay= 0  cost= 530\n",
      "id= 36  w=11  r:  5  d: 90  min_duration= 11  B: 36  C: 48  late?0  delay= 0  cost= 528\n"
     ]
    }
   ],
   "source": [
    "for j in sorted(jobs[1:], key=lambda j: -j.cost())[:20]:\n",
    "    print(j)"
   ]
  },
  {
   "cell_type": "code",
   "execution_count": 13,
   "id": "4c7b7a21-c921-407c-b878-a152bfc5fd82",
   "metadata": {},
   "outputs": [
    {
     "name": "stdout",
     "output_type": "stream",
     "text": [
      "id=  1  job=  1  begin:  2  complete:  4  (time: 2)  (delay: 0)  machine:33  operator:21\n",
      "id=344  job=  1  begin:  4  complete:  5  (time: 1)  (delay: 0)  machine:43  operator:25\n",
      "id=377  job=  1  begin:  5  complete:  7  (time: 2)  (delay: 0)  machine:26  operator:25\n",
      "id=498  job=  1  begin:  7  complete:  8  (time: 1)  (delay: 0)  machine:47  operator:27\n",
      "id=512  job=  1  begin:  9  complete: 10  (time: 1)  (delay: 1)  machine:37  operator:27\n",
      "id=513  job=  1  begin: 10  complete: 11  (time: 1)  (delay: 1)  machine: 6  operator:21\n",
      "id=  2  job=  2  begin: 20  complete: 21  (time: 1)  (delay:16)  machine:26  operator: 1\n",
      "id=256  job=  2  begin: 25  complete: 26  (time: 1)  (delay:20)  machine:38  operator:16\n",
      "id=284  job=  2  begin: 26  complete: 28  (time: 2)  (delay:20)  machine:19  operator:16\n",
      "id=510  job=  2  begin: 28  complete: 29  (time: 1)  (delay:20)  machine:28  operator:25\n",
      "id=771  job=  2  begin: 29  complete: 30  (time: 1)  (delay:20)  machine:43  operator:20\n",
      "id=  3  job=  3  begin: 27  complete: 28  (time: 1)  (delay:23)  machine:11  operator: 5\n",
      "id=470  job=  3  begin: 28  complete: 30  (time: 2)  (delay:23)  machine:48  operator:12\n",
      "id=490  job=  3  begin: 30  complete: 32  (time: 2)  (delay:23)  machine:40  operator:22\n",
      "id=740  job=  3  begin: 32  complete: 33  (time: 1)  (delay:23)  machine:41  operator:14\n",
      "id=  4  job=  4  begin: 32  complete: 34  (time: 2)  (delay:25)  machine:19  operator:12\n",
      "id=326  job=  4  begin: 34  complete: 36  (time: 2)  (delay:25)  machine:17  operator:16\n",
      "id=486  job=  4  begin: 36  complete: 38  (time: 2)  (delay:25)  machine:31  operator:22\n",
      "id=890  job=  4  begin: 38  complete: 39  (time: 1)  (delay:25)  machine:46  operator:26\n",
      "id=915  job=  4  begin: 39  complete: 41  (time: 2)  (delay:25)  machine:36  operator:26\n"
     ]
    }
   ],
   "source": [
    "for t in sorted(tasks[1:], key=lambda t: (t.jid, t.B))[:20]:\n",
    "    print(t)"
   ]
  },
  {
   "cell_type": "markdown",
   "id": "2c633651-76f6-4605-b4d1-a1cd23b7f850",
   "metadata": {},
   "source": [
    "---"
   ]
  },
  {
   "cell_type": "code",
   "execution_count": 14,
   "id": "50ba3f90-875e-4f94-8171-dbade7384470",
   "metadata": {},
   "outputs": [],
   "source": [
    "out_filename = \"solutions/KIRO-huge.json\"\n",
    "with open(out_filename, 'w') as f:\n",
    "    json.dump(jsonify(tasks), f)"
   ]
  },
  {
   "cell_type": "code",
   "execution_count": null,
   "id": "d4d9a401-743a-4912-a408-d8cb73b7f8f4",
   "metadata": {},
   "outputs": [],
   "source": []
  }
 ],
 "metadata": {
  "kernelspec": {
   "display_name": "Python 3 (ipykernel)",
   "language": "python",
   "name": "python3"
  },
  "language_info": {
   "codemirror_mode": {
    "name": "ipython",
    "version": 3
   },
   "file_extension": ".py",
   "mimetype": "text/x-python",
   "name": "python",
   "nbconvert_exporter": "python",
   "pygments_lexer": "ipython3",
   "version": "3.9.15"
  }
 },
 "nbformat": 4,
 "nbformat_minor": 5
}
