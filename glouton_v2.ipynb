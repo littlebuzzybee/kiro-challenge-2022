{
 "cells": [
  {
   "cell_type": "code",
   "execution_count": 1,
   "id": "67df02cc-84de-4d09-8a7d-3cad42c7c68f",
   "metadata": {},
   "outputs": [],
   "source": [
    "import numpy as np\n",
    "import json\n",
    "from random import shuffle"
   ]
  },
  {
   "cell_type": "code",
   "execution_count": 2,
   "id": "532a25ee-21d6-4c4d-b807-77015dcf4229",
   "metadata": {},
   "outputs": [],
   "source": [
    "class Job:\n",
    "    def __init__(self, jid, Sj, rj, dj, wj):\n",
    "        self.id = jid # job id\n",
    "        self.S = Sj   # sequence of id of Tasks (list)\n",
    "        self.r = rj   # release date\n",
    "        self.d = dj   # due date\n",
    "        self.w = wj   # weight\n",
    "    \n",
    "    def __str__(self):\n",
    "        return f\"id={self.id} release:{self.r} due:{self.d}, weight={self.w}\"\n",
    "    \n",
    "    def B(self):\n",
    "        return tasks[self.S[0]].B # beginning date\n",
    "    \n",
    "    def C(self):\n",
    "        return tasks[self.S[-1]].C # completion date\n",
    "\n",
    "class Task:\n",
    "    def __init__(self, tid, jid, pi, workers):\n",
    "        self.id = tid          # Task id\n",
    "        self.jid = jid         # Job id of corresponding Job\n",
    "        self.p = pi            # processing time\n",
    "        self.workers = workers # possible Workers for this Task (list)\n",
    "        self.B = None          # beginning date\n",
    "        self.C = None          # completion date\n",
    "        self.running = False\n",
    "        self.done = False\n",
    "        self.mid = None        # id of Machine on which task runs\n",
    "        self.oid = None        # id of Operator doing this task\n",
    "        \n",
    "    def __str__(self):\n",
    "        return f\"id={self.id} job={self.jid} begin:{self.B} complete:{self.C} (time:{self.p}) machine:{self.mid} operator:{self.oid}\"\n",
    "        \n",
    "class Worker:\n",
    "    def __init__(self, mid, oid):\n",
    "        self.mid = mid # id of Machine used\n",
    "        self.oid = oid # id of Operator working\n",
    "        \n",
    "    def __str__(self):\n",
    "        return f\"machine={self.mid} operator:{self.oid}\""
   ]
  },
  {
   "cell_type": "code",
   "execution_count": 3,
   "id": "0a21ed9f-9502-4069-a5e7-0b84424f0fac",
   "metadata": {},
   "outputs": [],
   "source": [
    "def parser_job(job):\n",
    "    jid = job['job']\n",
    "    Sj  = job['sequence']\n",
    "    rj  = job['release_date']\n",
    "    dj  = job['due_date']\n",
    "    wj  = job['weight']\n",
    "    return Job(jid, Sj, rj, dj, wj)\n",
    "\n",
    "def parser_task(task, jid):\n",
    "    tid = task['task']\n",
    "    pi  = task['processing_time']\n",
    "    workers = []\n",
    "    for machine in task['machines']:\n",
    "        mid = machine['machine']\n",
    "        for operator in machine['operators']:\n",
    "            oid = operator\n",
    "            workers.append(Worker(mid, oid))\n",
    "    return Task(tid, jid, pi, workers)\n",
    "\n",
    "def parser_inst(inst):\n",
    "    J = inst['parameters']['size']['nb_jobs']\n",
    "    I = inst['parameters']['size']['nb_tasks']\n",
    "    M = inst['parameters']['size']['nb_machines']\n",
    "    O = inst['parameters']['size']['nb_operators']\n",
    "    alpha = inst['parameters']['costs']['unit_penalty']\n",
    "    beta = inst['parameters']['costs']['tardiness']\n",
    "    \n",
    "    machines  = {} # storing machines' availability by id\n",
    "    operators = {} # storing operators' availability by id\n",
    "    jobs  = (J+1) * [None]                          # list of Jobs\n",
    "    jobs[0] = Job(jid=0, Sj=[], rj=-1, dj=-1, wj=0) # dummy element 0\n",
    "    tasks = (I+1) * [None]                          # list of Tasks\n",
    "    tasks[0] = Task(tid=0, jid=0, pi=0, workers=[]) # dummy element 0\n",
    "    for job in inst['jobs']:\n",
    "        jid = job['job']\n",
    "        jobs[jid] = parser_job(job) # add Job in list of Jobs\n",
    "        for task in inst['tasks']:\n",
    "            tid = task['task']\n",
    "            tasks[tid] = parser_task(task, jid) # add task in list of Tasks\n",
    "            for machine in task['machines']:\n",
    "                mid = machine['machine']\n",
    "                for operator in machine['operators']:\n",
    "                    oid = operator\n",
    "                    machines[mid]  = True # set machine to available\n",
    "                    operators[oid] = True # set operator to available\n",
    "    \n",
    "    return (J, I, M, O, alpha, beta, jobs, tasks, machines, operators)"
   ]
  },
  {
   "cell_type": "code",
   "execution_count": 4,
   "id": "db8c06b6-11f1-4b6d-8cfd-d43887fc1f9d",
   "metadata": {},
   "outputs": [],
   "source": [
    "def optim():\n",
    "    T = 0\n",
    "    while (np.sum([t.done for t in tasks]) < I):\n",
    "        for j in jobs:\n",
    "            if T >= j.r: # it is past the release date of this Job\n",
    "                for (t_idx, tid) in enumerate(j.S): # loop over Tasks for this Job\n",
    "                    t = tasks[tid]      # get Task from its id\n",
    "                    for w in t.workers: # look for a Worker (machine, operator) to execute Task\n",
    "                        if operators[w.oid] \\\n",
    "                        and machines[w.mid] \\\n",
    "                        and not t.running \\\n",
    "                        and not t.done \\\n",
    "                        and np.all([tasks[tid2].done for tid2 in j.S[:t_idx]]): # all Job's previous Tasks are done\n",
    "                            t.running = True # set task to running\n",
    "                            t.B = T          # set beginning time\n",
    "                            t.mid = w.mid    # set machine id for task\n",
    "                            t.oid = w.oid    # set operator id for task\n",
    "                            machines[w.mid]  = False   # set machine to busy\n",
    "                            operators[w.oid] = False   # set operator to busy\n",
    "\n",
    "        for t in tasks:\n",
    "            if t.running:\n",
    "                if (T - t.B >= t.p):\n",
    "                    t.running = False # task ends\n",
    "                    t.done = True     # task is done\n",
    "                    machines[t.mid]  = True # free machine\n",
    "                    operators[t.oid] = True # free operator\n",
    "                    t.C = T           # set completion time\n",
    "\n",
    "        T += 1 # time flows"
   ]
  },
  {
   "cell_type": "code",
   "execution_count": 5,
   "id": "dc20f679-e422-4ee2-9ff3-0686e4d33a3e",
   "metadata": {},
   "outputs": [],
   "source": [
    "def cost(jobs):\n",
    "    s = 0\n",
    "    for job in jobs[1:]:\n",
    "        C = job.C()\n",
    "        T = max(C - job.d, 0)\n",
    "        U = 1 if T > 0 else 0\n",
    "        s += job.w * (C + alpha*U + beta*T)\n",
    "    return s"
   ]
  },
  {
   "cell_type": "code",
   "execution_count": 6,
   "id": "69cfce61-d2f9-473b-87e3-082ab515f400",
   "metadata": {},
   "outputs": [],
   "source": [
    "def jsonify(tasks):\n",
    "    res = []\n",
    "    for task in tasks[1:]:\n",
    "        sub_res = {}\n",
    "        sub_res['task'], sub_res['start'], sub_res['machine'], sub_res['operator'] = task.id, task.B, task.mid, task.oid\n",
    "        res.append(sub_res)\n",
    "    return res"
   ]
  },
  {
   "cell_type": "markdown",
   "id": "d891de0c-f1df-4038-8bbd-78530fc98033",
   "metadata": {},
   "source": [
    "---"
   ]
  },
  {
   "cell_type": "code",
   "execution_count": 13,
   "id": "4f06bfd4-44b8-454f-aad8-6248001cf8d2",
   "metadata": {},
   "outputs": [],
   "source": [
    "in_filename = \"instances/medium.json\"\n",
    "with open(in_filename, 'rb') as f:\n",
    "    inst = json.load(f)"
   ]
  },
  {
   "cell_type": "code",
   "execution_count": 14,
   "id": "577f474d-e604-44bd-b5a9-3017459f359b",
   "metadata": {},
   "outputs": [
    {
     "name": "stdout",
     "output_type": "stream",
     "text": [
      "J=20\n",
      "I=150\n",
      "M=10\n",
      "O=15\n",
      "α=6\n",
      "β=1\n"
     ]
    }
   ],
   "source": [
    "(J, I, M, O, alpha, beta, jobs, tasks, machines, operators) = parser_inst(inst)\n",
    "print(f\"J={J}\\nI={I}\\nM={M}\\nO={O}\\nα={alpha}\\nβ={beta}\")"
   ]
  },
  {
   "cell_type": "code",
   "execution_count": 15,
   "id": "b3eb2207-6eb4-4403-93ee-23e7c583fad8",
   "metadata": {},
   "outputs": [],
   "source": [
    "(J, I, M, O, alpha, beta, jobs, tasks, machines, operators) = parser_inst(inst)\n",
    "optim()"
   ]
  },
  {
   "cell_type": "code",
   "execution_count": 16,
   "id": "60a80033-dcd7-43a9-a968-0d95295bed1b",
   "metadata": {},
   "outputs": [
    {
     "name": "stdout",
     "output_type": "stream",
     "text": [
      "id=5 release:5 due:11, weight=5\n",
      "id=20 job=20 begin:1 complete:3 (time:2) machine:2 operator:3\n"
     ]
    }
   ],
   "source": [
    "print(jobs[5])\n",
    "print(tasks[20])"
   ]
  },
  {
   "cell_type": "code",
   "execution_count": 17,
   "id": "c7de3659-edb7-4e87-aae3-0fe6207c164a",
   "metadata": {},
   "outputs": [
    {
     "data": {
      "text/plain": [
       "8317"
      ]
     },
     "execution_count": 17,
     "metadata": {},
     "output_type": "execute_result"
    }
   ],
   "source": [
    "cost(jobs)"
   ]
  },
  {
   "cell_type": "code",
   "execution_count": 18,
   "id": "50ba3f90-875e-4f94-8171-dbade7384470",
   "metadata": {},
   "outputs": [],
   "source": [
    "out_filename = \"KIRO.json\"\n",
    "with open(out_filename, 'w') as f:\n",
    "    json.dump(jsonify(tasks), f)"
   ]
  },
  {
   "cell_type": "code",
   "execution_count": null,
   "id": "d4d9a401-743a-4912-a408-d8cb73b7f8f4",
   "metadata": {},
   "outputs": [],
   "source": []
  }
 ],
 "metadata": {
  "kernelspec": {
   "display_name": "Python 3 (ipykernel)",
   "language": "python",
   "name": "python3"
  },
  "language_info": {
   "codemirror_mode": {
    "name": "ipython",
    "version": 3
   },
   "file_extension": ".py",
   "mimetype": "text/x-python",
   "name": "python",
   "nbconvert_exporter": "python",
   "pygments_lexer": "ipython3",
   "version": "3.9.15"
  }
 },
 "nbformat": 4,
 "nbformat_minor": 5
}
