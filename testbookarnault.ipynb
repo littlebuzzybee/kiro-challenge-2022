{
 "cells": [
  {
   "cell_type": "code",
   "execution_count": null,
   "metadata": {},
   "outputs": [],
   "source": []
  }
 ],
 "metadata": {
  "kernelspec": {
   "display_name": "Python 3.9.13 64-bit",
   "language": "python",
   "name": "python3"
  },
  "language_info": {
   "name": "python",
   "version": "3.9.13"
  },
  "orig_nbformat": 4,
  "vscode": {
   "interpreter": {
    "hash": "398e7e75e7927e4df650c56a257ee51ad58c98d7df228822a2872f22c83dc860"
   }
  }
 },
 "nbformat": 4,
 "nbformat_minor": 2
}
