{
 "cells": [
  {
   "cell_type": "code",
   "execution_count": 1,
   "id": "67df02cc-84de-4d09-8a7d-3cad42c7c68f",
   "metadata": {},
   "outputs": [],
   "source": [
    "import numpy as np\n",
    "import json\n",
    "from random import shuffle"
   ]
  },
  {
   "cell_type": "code",
   "execution_count": 2,
   "id": "05f7b54b-cbc2-4fc6-b92c-7106e65efdff",
   "metadata": {},
   "outputs": [],
   "source": [
    "in_filename = \"instances/huge.json\""
   ]
  },
  {
   "cell_type": "code",
   "execution_count": 3,
   "id": "c1055c95-a114-4105-89fb-af44466c683b",
   "metadata": {},
   "outputs": [],
   "source": [
    "with open(in_filename, 'rb') as f:\n",
    "    inst = json.load(f)"
   ]
  },
  {
   "cell_type": "code",
   "execution_count": 4,
   "id": "0a21ed9f-9502-4069-a5e7-0b84424f0fac",
   "metadata": {},
   "outputs": [],
   "source": [
    "def parser_jobs(jobs):\n",
    "    parsed = []\n",
    "    for job in jobs:\n",
    "        j  = job['job']\n",
    "        Sj = job['sequence']\n",
    "        rj = job['release_date']\n",
    "        dj = job['due_date']\n",
    "        wj = job['weight']\n",
    "        parsed.append((j, Sj, rj, dj, wj))\n",
    "    return parsed\n",
    "\n",
    "def parser_tasks(tasks):\n",
    "    parsed = []\n",
    "    for task in tasks:\n",
    "        i = task['task']\n",
    "        pi = task['processing_time']\n",
    "        Mi = parser_machines(task['machines'])\n",
    "        parsed.append((i, pi, Mi))\n",
    "    return parsed\n",
    "\n",
    "def parser_machines(machines):\n",
    "    parsed = []\n",
    "    for machine in machines:\n",
    "        m = machine['machine']\n",
    "        Oim = machine['operators']\n",
    "        parsed.append((m, Oim))\n",
    "    return parsed\n",
    "\n",
    "def parser_inst(inst):\n",
    "    J = inst['parameters']['size']['nb_jobs']\n",
    "    I = inst['parameters']['size']['nb_tasks']\n",
    "    M = inst['parameters']['size']['nb_machines']\n",
    "    O = inst['parameters']['size']['nb_operators']\n",
    "    alpha = inst['parameters']['costs']['unit_penalty']\n",
    "    beta = inst['parameters']['costs']['tardiness']\n",
    "    jobs = parser_jobs(inst['jobs'])\n",
    "    tasks = parser_tasks(inst['tasks'])\n",
    "    return (J, I, M, O, alpha, beta, jobs, tasks)"
   ]
  },
  {
   "cell_type": "code",
   "execution_count": 5,
   "id": "577f474d-e604-44bd-b5a9-3017459f359b",
   "metadata": {},
   "outputs": [],
   "source": [
    "(J, I, M, O, alpha, beta, jobs, tasks) = parser_inst(inst)"
   ]
  },
  {
   "cell_type": "code",
   "execution_count": 6,
   "id": "d90aff1a-827f-4c93-8a67-132eac812007",
   "metadata": {},
   "outputs": [
    {
     "name": "stdout",
     "output_type": "stream",
     "text": [
      "J=200\n",
      "I=1000\n",
      "M=50\n",
      "O=30\n",
      "α=6\n",
      "β=1\n"
     ]
    }
   ],
   "source": [
    "print(f\"J={J}\\nI={I}\\nM={M}\\nO={O}\\nα={alpha}\\nβ={beta}\")"
   ]
  },
  {
   "cell_type": "code",
   "execution_count": 7,
   "id": "93adffa1-b040-4bd0-8b2a-f668c688168a",
   "metadata": {},
   "outputs": [],
   "source": [
    "def job_weight(job):\n",
    "    dj, wj = job[3], job[4]\n",
    "    Cj = T # global variable, proxy for job's time of completion\n",
    "    Tj = max(Cj-dj, 0)\n",
    "    Uj = 1 if Tj > 0 else 0\n",
    "    return wj*(Cj + alpha*Uj + beta*Tj)"
   ]
  },
  {
   "cell_type": "code",
   "execution_count": 8,
   "id": "6db7ad89-3cca-4a14-bf3d-da2fd718ab7b",
   "metadata": {},
   "outputs": [],
   "source": [
    "def job_weight2(job):\n",
    "    dj, wj = job[3], job[4]\n",
    "    s = 0\n",
    "    for future_task_id in np.setdiff1d(job[1], [_[0] for _ in done]):\n",
    "        s += tasks[future_task_id-1][1]\n",
    "    Cj = T + s # proxy for job's time of completion\n",
    "    Tj = max(Cj-dj, 0)\n",
    "    Uj = 1 if Tj > 0 else 0\n",
    "    return wj*(Cj + alpha*Uj + beta*Tj)"
   ]
  },
  {
   "cell_type": "code",
   "execution_count": 9,
   "id": "f8fbfe65-71a2-4c43-8950-01b3ee0f45d2",
   "metadata": {},
   "outputs": [],
   "source": [
    "def task_weight(task):\n",
    "    job = jobs[tid2jid(task[0])-1]\n",
    "    dj, wj = job[3], job[4]\n",
    "    t_idx = job[1].index(task[0]) # index of task in all job's tasks\n",
    "    s = 0\n",
    "    for future_task_id in job[1][t_idx:]:\n",
    "        s += tasks[future_task_id-1][1]\n",
    "    Cj = T + s # proxy for job's time of completion\n",
    "    Tj = max(Cj-dj, 0)\n",
    "    Uj = 1 if Tj > 0 else 0\n",
    "    return wj*(Cj + alpha*Uj + beta*Tj)"
   ]
  },
  {
   "cell_type": "code",
   "execution_count": 10,
   "id": "d06d1ace-e9fa-4672-8f08-c42493d4c8f9",
   "metadata": {},
   "outputs": [],
   "source": [
    "def tid2jid(tid):\n",
    "    for job in jobs:\n",
    "        if tid in job[1]:\n",
    "            return job[0]"
   ]
  },
  {
   "cell_type": "code",
   "execution_count": 11,
   "id": "dc20f679-e422-4ee2-9ff3-0686e4d33a3e",
   "metadata": {},
   "outputs": [],
   "source": [
    "def cost(done):\n",
    "    C = {}\n",
    "    for job in jobs:\n",
    "        C[job[0]] = 0\n",
    "    for done_task in done:\n",
    "        jid = tid2jid(done_task[0])\n",
    "        for job_task_id in jobs[jid-1][1]:\n",
    "            if job_task_id == done_task[0]:\n",
    "                t = tasks[job_task_id-1]\n",
    "        C[jid] = max(C[jid], done_task[1]+t[1]) # end time for task\n",
    "    s = 0\n",
    "    for job in jobs:\n",
    "        dj, wj = job[3], job[4]\n",
    "        Cj = C[job[0]] # global variable, proxy for job's time of completion\n",
    "        Tj = max(Cj-dj, 0)\n",
    "        Uj = 1 if Tj > 0 else 0\n",
    "        s += wj*(Cj + alpha*Uj + beta*Tj)\n",
    "    return s"
   ]
  },
  {
   "cell_type": "code",
   "execution_count": 12,
   "id": "db8c06b6-11f1-4b6d-8cfd-d43887fc1f9d",
   "metadata": {},
   "outputs": [],
   "source": [
    "def optim():\n",
    "    running = []\n",
    "    done = []\n",
    "    busy_operators = []\n",
    "    busy_machines = []\n",
    "\n",
    "    T = 0\n",
    "    while len(done) < I:\n",
    "\n",
    "        \"\"\"\n",
    "        feasible_tasks = []\n",
    "        feasible_tasks_id = []\n",
    "        for j in jobs:\n",
    "            if T >= j[2]:\n",
    "                for task_id in j[1]:\n",
    "                    if (not task_id in [_[0] for _ in running]) \\\n",
    "                    and (not task_id in [_[0] for _ in done]):\n",
    "                        feasible_tasks.append(tasks[task_id-1])\n",
    "                        feasible_tasks_id.append(task_id)\n",
    "\n",
    "        stasks = sorted(feasible_tasks, key=task_weight)\n",
    "        #stasks = sorted(feasible_tasks, key=lambda _: _[1])\n",
    "\n",
    "        for t in stasks:\n",
    "            task_id = t[0]\n",
    "            j = jobs[tid2jid(task_id)-1]\n",
    "            t_idx = j[1].index(task_id)\n",
    "            for m in t[2]: # look for a machine to start the task on\n",
    "                m_id = m[0] # get this machine's id\n",
    "                for op_id in m[1]: # look for an operator to operate machine\n",
    "                    if (not op_id in busy_operators) \\\n",
    "                    and (not m_id in busy_machines) \\\n",
    "                    and (not task_id in [_[0] for _ in running]) \\\n",
    "                    and (not task_id in [_[0] for _ in done]) \\\n",
    "                    and np.intersect1d(j[1][:t_idx], [_[0] for _ in running]).size == 0 \\\n",
    "                    and np.isin(j[1][:t_idx], [_[0] for _ in done]).all(): # all prior tasks done\n",
    "                        running.append((task_id, T, m_id, op_id))\n",
    "                        busy_operators.append(op_id)\n",
    "                        busy_machines.append(m_id)\n",
    "        \"\"\"\n",
    "\n",
    "        ##########################\n",
    "\n",
    "\n",
    "        #sjobs = sorted(jobs, key=job_weight2)\n",
    "        #sjobs = list(reversed(sorted(jobs, key=job_weight)))\n",
    "        for j in jobs:\n",
    "            if T >= j[2]: # it is past the release date of this job\n",
    "                for (t_idx, task_id) in enumerate(j[1]): # loop over tasks for this job\n",
    "                    t = tasks[task_id-1] # get full task for this task id\n",
    "                    for m in t[2]: # look for a machine to start the task on\n",
    "                        m_id = m[0] # get this machine's id\n",
    "                        for op_id in m[1]: # look for an operator to operate machine\n",
    "                            if (not op_id in busy_operators) \\\n",
    "                            and (not m_id in busy_machines) \\\n",
    "                            and (not task_id in [_[0] for _ in running]) \\\n",
    "                            and (not task_id in [_[0] for _ in done]) \\\n",
    "                            and np.intersect1d(j[1][:t_idx], [_[0] for _ in running]).size == 0 \\\n",
    "                            and np.isin(j[1][:t_idx], [_[0] for _ in done]).all(): # all prior tasks done\n",
    "                                running.append((task_id, T, m_id, op_id))\n",
    "                                busy_operators.append(op_id)\n",
    "                                busy_machines.append(m_id)\n",
    "\n",
    "        for running_task in running:\n",
    "            t_id, start_time, m_id, op_id = running_task\n",
    "            processing_time = tasks[t_id-1][1]\n",
    "            if (T - start_time >= processing_time):\n",
    "                running = [_ for _ in running if _[0] != t_id]\n",
    "                busy_operators.remove(op_id)\n",
    "                busy_machines.remove(m_id)\n",
    "                done.append((t_id, start_time, m_id, op_id))\n",
    "\n",
    "        T += 1 # time flows\n",
    "    \n",
    "    return done"
   ]
  },
  {
   "cell_type": "code",
   "execution_count": 13,
   "id": "b3eb2207-6eb4-4403-93ee-23e7c583fad8",
   "metadata": {},
   "outputs": [],
   "source": [
    "done = optim()"
   ]
  },
  {
   "cell_type": "code",
   "execution_count": 14,
   "id": "c7de3659-edb7-4e87-aae3-0fe6207c164a",
   "metadata": {},
   "outputs": [
    {
     "data": {
      "text/plain": [
       "96063"
      ]
     },
     "execution_count": 14,
     "metadata": {},
     "output_type": "execute_result"
    }
   ],
   "source": [
    "cost(done)"
   ]
  },
  {
   "cell_type": "code",
   "execution_count": 15,
   "id": "69cfce61-d2f9-473b-87e3-082ab515f400",
   "metadata": {},
   "outputs": [],
   "source": [
    "def jsonify(done):\n",
    "    res = []\n",
    "    for task in done:\n",
    "        sub_res = {}\n",
    "        sub_res['task'], sub_res['start'], sub_res['machine'], sub_res['operator'] = task\n",
    "        res.append(sub_res)\n",
    "    return res"
   ]
  },
  {
   "cell_type": "code",
   "execution_count": 16,
   "id": "50ba3f90-875e-4f94-8171-dbade7384470",
   "metadata": {},
   "outputs": [
    {
     "ename": "NameError",
     "evalue": "name 'best_done' is not defined",
     "output_type": "error",
     "traceback": [
      "\u001b[0;31m---------------------------------------------------------------------------\u001b[0m",
      "\u001b[0;31mNameError\u001b[0m                                 Traceback (most recent call last)",
      "Cell \u001b[0;32mIn [16], line 3\u001b[0m\n\u001b[1;32m      1\u001b[0m out_filename \u001b[38;5;241m=\u001b[39m \u001b[38;5;124m\"\u001b[39m\u001b[38;5;124msolutions/KIRO-huge.json\u001b[39m\u001b[38;5;124m\"\u001b[39m\n\u001b[1;32m      2\u001b[0m \u001b[38;5;28;01mwith\u001b[39;00m \u001b[38;5;28mopen\u001b[39m(out_filename, \u001b[38;5;124m'\u001b[39m\u001b[38;5;124mw\u001b[39m\u001b[38;5;124m'\u001b[39m) \u001b[38;5;28;01mas\u001b[39;00m f:\n\u001b[0;32m----> 3\u001b[0m     json\u001b[38;5;241m.\u001b[39mdump(jsonify(\u001b[43mbest_done\u001b[49m), f)\n",
      "\u001b[0;31mNameError\u001b[0m: name 'best_done' is not defined"
     ]
    }
   ],
   "source": [
    "out_filename = \"solutions/KIRO-huge.json\"\n",
    "with open(out_filename, 'w') as f:\n",
    "    json.dump(jsonify(best_done), f)"
   ]
  },
  {
   "cell_type": "code",
   "execution_count": null,
   "id": "08d282b4-490e-44fe-bbb8-e536030cc57d",
   "metadata": {},
   "outputs": [],
   "source": []
  },
  {
   "cell_type": "code",
   "execution_count": null,
   "id": "d4d9a401-743a-4912-a408-d8cb73b7f8f4",
   "metadata": {},
   "outputs": [],
   "source": []
  }
 ],
 "metadata": {
  "kernelspec": {
   "display_name": "Python 3 (ipykernel)",
   "language": "python",
   "name": "python3"
  },
  "language_info": {
   "codemirror_mode": {
    "name": "ipython",
    "version": 3
   },
   "file_extension": ".py",
   "mimetype": "text/x-python",
   "name": "python",
   "nbconvert_exporter": "python",
   "pygments_lexer": "ipython3",
   "version": "3.9.15"
  }
 },
 "nbformat": 4,
 "nbformat_minor": 5
}
