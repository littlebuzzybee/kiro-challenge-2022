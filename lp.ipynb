{
 "cells": [
  {
   "cell_type": "markdown",
   "metadata": {},
   "source": [
    "# Linear programming approach"
   ]
  },
  {
   "cell_type": "markdown",
   "metadata": {},
   "source": [
    "## Imports"
   ]
  },
  {
   "cell_type": "code",
   "execution_count": 1,
   "metadata": {
    "execution": {
     "iopub.execute_input": "2023-05-15T12:00:02.009908Z",
     "iopub.status.busy": "2023-05-15T12:00:02.009627Z",
     "iopub.status.idle": "2023-05-15T12:00:02.225834Z",
     "shell.execute_reply": "2023-05-15T12:00:02.225080Z",
     "shell.execute_reply.started": "2023-05-15T12:00:02.009881Z"
    },
    "tags": []
   },
   "outputs": [],
   "source": [
    "import numpy as np\n",
    "from pulp import *\n",
    "\n",
    "from utils import Instance, PuLP_Problem, Gurobi_Problem\n",
    "\n",
    "%load_ext autoreload\n",
    "%autoreload 2"
   ]
  },
  {
   "cell_type": "markdown",
   "metadata": {},
   "source": [
    "## Problem statement"
   ]
  },
  {
   "cell_type": "markdown",
   "metadata": {},
   "source": [
    "**Constraints**\n",
    "\n",
    "Pre-emption not allowed, full running time for each task:\n",
    "$$\\forall i \\in \\mathcal{I}, C_i = B_i + p_i$$\n",
    "\n",
    "Release time:\n",
    "$$\\forall i \\in \\mathcal{I}, B_i \\ge r_{j(i)}$$\n",
    "\n",
    "Tasks have to be completed in order for each job:\n",
    "$$\\forall j \\in \\mathcal{J}, \\forall i < i' \\in S_j, B_{i'} \\ge C_i$$\n",
    "\n",
    "Two operators or two machines cannot handle more than one task at once:\n",
    "$$\\forall i \\ne i' \\in \\mathcal{I}\\,\\text{s.t.}\\,m_{i'}=m_{i}\\,\\text{or}\\,o_{i'}=o_i, B_{i'} \\notin \\{B_i, \\dots, B_i+p_i-1\\}$$"
   ]
  },
  {
   "cell_type": "markdown",
   "metadata": {},
   "source": [
    "**Objective**\n",
    "\n",
    "$$\\forall j \\in \\mathcal{J}, T_j := \\max(0, C_j - d_j)$$\n",
    "$$\\forall j \\in \\mathcal{J}, U_j := \\mathbb{1}_{C_j > d_j}$$\n",
    "\n",
    "$$\\min \\sum_{j \\in \\mathcal{J}} w_j (C_j + \\alpha U_j + \\beta T_j)$$"
   ]
  },
  {
   "cell_type": "markdown",
   "metadata": {},
   "source": [
    "## Greedy sub-optimal solution"
   ]
  },
  {
   "cell_type": "code",
   "execution_count": 2,
   "metadata": {
    "execution": {
     "iopub.execute_input": "2023-05-15T12:00:07.359890Z",
     "iopub.status.busy": "2023-05-15T12:00:07.359580Z",
     "iopub.status.idle": "2023-05-15T12:00:07.375682Z",
     "shell.execute_reply": "2023-05-15T12:00:07.374763Z",
     "shell.execute_reply.started": "2023-05-15T12:00:07.359867Z"
    },
    "tags": []
   },
   "outputs": [
    {
     "name": "stdout",
     "output_type": "stream",
     "text": [
      "J=5 (number of jobs)\n",
      "I=25 (number of tasks)\n",
      "M=8 (number of machines)\n",
      "O=8 (number of operators)\n",
      "α=6 (unit penalty)\n",
      "β=1 (tardiness)\n"
     ]
    }
   ],
   "source": [
    "instance_name = \"tiny\"\n",
    "inst = Instance(instance_name)\n",
    "inst.load(f\"instances/{instance_name}.json\")\n",
    "print(f\"J={inst.J} (number of jobs)\\n\" +\n",
    "      f\"I={inst.I} (number of tasks)\\n\" +\n",
    "      f\"M={inst.M} (number of machines)\\n\" +\n",
    "      f\"O={inst.O} (number of operators)\\n\" +\n",
    "      f\"α={inst.alpha} (unit penalty)\\n\" +\n",
    "      f\"β={inst.beta} (tardiness)\")"
   ]
  },
  {
   "cell_type": "code",
   "execution_count": 3,
   "metadata": {
    "execution": {
     "iopub.execute_input": "2023-05-15T12:00:08.078174Z",
     "iopub.status.busy": "2023-05-15T12:00:08.077445Z",
     "iopub.status.idle": "2023-05-15T12:00:08.095899Z",
     "shell.execute_reply": "2023-05-15T12:00:08.094726Z",
     "shell.execute_reply.started": "2023-05-15T12:00:08.078108Z"
    },
    "tags": []
   },
   "outputs": [
    {
     "name": "stdout",
     "output_type": "stream",
     "text": [
      "saved file solution cost: 1067\n"
     ]
    }
   ],
   "source": [
    "with open(f\"solutions/KIRO-{instance_name}.json\", 'rb') as f:\n",
    "    sol = json.load(f)\n",
    "for d in sol:\n",
    "    task = inst.tasks[d['task']]\n",
    "    task.B = d['start']\n",
    "    task.C = d['start'] + task.p\n",
    "print(f\"saved file solution cost: {inst.cost()}\")\n",
    "for task in inst.tasks.values():\n",
    "    task.B = None\n",
    "    task.C = None"
   ]
  },
  {
   "cell_type": "code",
   "execution_count": 4,
   "metadata": {
    "execution": {
     "iopub.execute_input": "2023-05-15T12:00:08.880134Z",
     "iopub.status.busy": "2023-05-15T12:00:08.879740Z",
     "iopub.status.idle": "2023-05-15T12:00:08.897327Z",
     "shell.execute_reply": "2023-05-15T12:00:08.896390Z",
     "shell.execute_reply.started": "2023-05-15T12:00:08.880074Z"
    },
    "tags": []
   },
   "outputs": [
    {
     "name": "stdout",
     "output_type": "stream",
     "text": [
      "greedy heuristic cost: 537\n"
     ]
    }
   ],
   "source": [
    "inst.greedy_solve()\n",
    "print(f\"greedy heuristic cost: {inst.cost()}\")"
   ]
  },
  {
   "cell_type": "markdown",
   "metadata": {},
   "source": [
    "## Modeling - with PuLP"
   ]
  },
  {
   "cell_type": "code",
   "execution_count": 5,
   "metadata": {
    "execution": {
     "iopub.execute_input": "2023-05-15T12:00:10.700391Z",
     "iopub.status.busy": "2023-05-15T12:00:10.699697Z",
     "iopub.status.idle": "2023-05-15T12:00:10.721465Z",
     "shell.execute_reply": "2023-05-15T12:00:10.720453Z",
     "shell.execute_reply.started": "2023-05-15T12:00:10.700331Z"
    },
    "tags": []
   },
   "outputs": [],
   "source": [
    "pulp_prob = PuLP_Problem(inst)"
   ]
  },
  {
   "cell_type": "code",
   "execution_count": 6,
   "metadata": {
    "execution": {
     "iopub.execute_input": "2023-05-15T12:00:11.173409Z",
     "iopub.status.busy": "2023-05-15T12:00:11.172620Z",
     "iopub.status.idle": "2023-05-15T12:00:11.250754Z",
     "shell.execute_reply": "2023-05-15T12:00:11.250068Z",
     "shell.execute_reply.started": "2023-05-15T12:00:11.173370Z"
    },
    "tags": []
   },
   "outputs": [
    {
     "name": "stdout",
     "output_type": "stream",
     "text": [
      "Generating PuLP problem for tiny...\n",
      "Adding jobs/tasks variables and constraints...\n",
      "Adding machines and operators variables and constraints...\n",
      "Adding objective function...\n",
      "PuLP problem generated.\n"
     ]
    }
   ],
   "source": [
    "pulp_prob.generate_problem()"
   ]
  },
  {
   "cell_type": "code",
   "execution_count": 7,
   "metadata": {
    "execution": {
     "iopub.execute_input": "2023-05-15T12:00:11.749737Z",
     "iopub.status.busy": "2023-05-15T12:00:11.748031Z",
     "iopub.status.idle": "2023-05-15T12:00:11.767142Z",
     "shell.execute_reply": "2023-05-15T12:00:11.765603Z",
     "shell.execute_reply.started": "2023-05-15T12:00:11.749669Z"
    },
    "tags": []
   },
   "outputs": [
    {
     "name": "stdout",
     "output_type": "stream",
     "text": [
      "Problem tiny has 1675 variables and 2311 constraints\n"
     ]
    }
   ],
   "source": [
    "pulp_prob.show_info()"
   ]
  },
  {
   "cell_type": "code",
   "execution_count": 8,
   "metadata": {
    "execution": {
     "iopub.execute_input": "2023-05-15T12:00:13.788033Z",
     "iopub.status.busy": "2023-05-15T12:00:13.787771Z",
     "iopub.status.idle": "2023-05-15T12:00:13.887737Z",
     "shell.execute_reply": "2023-05-15T12:00:13.887201Z",
     "shell.execute_reply.started": "2023-05-15T12:00:13.788010Z"
    },
    "tags": []
   },
   "outputs": [
    {
     "name": "stdout",
     "output_type": "stream",
     "text": [
      "Problem saved to lp_problems/pulp_tiny.mps\n"
     ]
    }
   ],
   "source": [
    "pulp_prob.savefile()"
   ]
  },
  {
   "cell_type": "code",
   "execution_count": 9,
   "metadata": {
    "execution": {
     "iopub.execute_input": "2023-05-15T12:00:14.390288Z",
     "iopub.status.busy": "2023-05-15T12:00:14.390020Z",
     "iopub.status.idle": "2023-05-15T12:00:14.426364Z",
     "shell.execute_reply": "2023-05-15T12:00:14.425440Z",
     "shell.execute_reply.started": "2023-05-15T12:00:14.390265Z"
    },
    "tags": []
   },
   "outputs": [
    {
     "name": "stdout",
     "output_type": "stream",
     "text": [
      "Set parameter Username\n",
      "Academic license - for non-commercial use only - expires 2024-05-13\n",
      "No parameters matching '_test' found\n"
     ]
    },
    {
     "data": {
      "text/plain": [
       "['GLPK_CMD', 'GUROBI', 'GUROBI_CMD', 'PULP_CBC_CMD', 'COIN_CMD']"
      ]
     },
     "execution_count": 9,
     "metadata": {},
     "output_type": "execute_result"
    }
   ],
   "source": [
    "listSolvers(onlyAvailable=True)"
   ]
  },
  {
   "cell_type": "code",
   "execution_count": 10,
   "metadata": {
    "execution": {
     "iopub.execute_input": "2023-05-15T12:00:15.017565Z",
     "iopub.status.busy": "2023-05-15T12:00:15.016896Z",
     "iopub.status.idle": "2023-05-15T12:00:15.037502Z",
     "shell.execute_reply": "2023-05-15T12:00:15.036288Z",
     "shell.execute_reply.started": "2023-05-15T12:00:15.017505Z"
    },
    "tags": []
   },
   "outputs": [],
   "source": [
    "pulp_prob.inst.greedy_solve()\n",
    "pulp_prob.warmup()"
   ]
  },
  {
   "cell_type": "code",
   "execution_count": 11,
   "metadata": {
    "execution": {
     "iopub.execute_input": "2023-05-15T12:00:15.158688Z",
     "iopub.status.busy": "2023-05-15T12:00:15.158283Z",
     "iopub.status.idle": "2023-05-15T12:00:15.172672Z",
     "shell.execute_reply": "2023-05-15T12:00:15.172069Z",
     "shell.execute_reply.started": "2023-05-15T12:00:15.158644Z"
    },
    "tags": []
   },
   "outputs": [],
   "source": [
    "pulp_prob.set_solver(PULP_CBC_CMD(msg=True, warmStart=True))"
   ]
  },
  {
   "cell_type": "code",
   "execution_count": 12,
   "metadata": {
    "execution": {
     "iopub.execute_input": "2023-05-15T12:00:15.928024Z",
     "iopub.status.busy": "2023-05-15T12:00:15.926728Z",
     "iopub.status.idle": "2023-05-15T12:00:16.578517Z",
     "shell.execute_reply": "2023-05-15T12:00:16.577812Z",
     "shell.execute_reply.started": "2023-05-15T12:00:15.927957Z"
    },
    "tags": []
   },
   "outputs": [
    {
     "name": "stdout",
     "output_type": "stream",
     "text": [
      "Welcome to the CBC MILP Solver \n",
      "Version: 2.10.3 \n",
      "Build Date: Dec 15 2019 \n",
      "\n",
      "command line - /home/louis/anaconda3/envs/perso/lib/python3.11/site-packages/pulp/solverdir/cbc/linux/64/cbc /tmp/323da077329447eeaf4604c6c09c45a2-pulp.mps mips /tmp/323da077329447eeaf4604c6c09c45a2-pulp.mst timeMode elapsed branch printingOptions all solution /tmp/323da077329447eeaf4604c6c09c45a2-pulp.sol (default strategy 1)\n",
      "At line 2 NAME          MODEL\n",
      "At line 3 ROWS\n",
      "At line 2316 COLUMNS\n",
      "At line 13273 RHS\n",
      "At line 15585 BOUNDS\n",
      "At line 17261 ENDATA\n",
      "Problem MODEL has 2311 rows, 1675 columns and 7591 elements\n",
      "Coin0008I MODEL read with 0 errors\n",
      "opening mipstart file /tmp/323da077329447eeaf4604c6c09c45a2-pulp.mst.\n",
      "MIPStart values read for 1675 variables.\n",
      "Option for timeMode changed from cpu to elapsed\n",
      "Continuous objective value is 441 - 0.03 seconds\n",
      "Cgl0003I 0 fixed, 1 tightened bounds, 241 strengthened rows, 0 substitutions\n",
      "Cgl0004I processed model has 2280 rows, 1654 columns (1654 integer (1599 of which binary)) and 7738 elements\n",
      "Cutoff increment increased from 1e-05 to 0.9999\n",
      "Cbc0045I Fixing only non-zero variables.\n",
      "Cbc0045I MIPStart solution provided values for 1654 of 1654 integer variables, 821 variables are still fractional.\n",
      "Cbc0038I Full problem 2280 rows 1654 columns, reduced to 0 rows 0 columns\n",
      "Cbc0045I Mini branch and bound defined values for remaining variables in 0.03 seconds.\n",
      "Cbc0045I MIPStart provided solution with cost 537\n",
      "Cbc0012I Integer solution of 537 found by Reduced search after 0 iterations and 0 nodes (0.19 seconds)\n",
      "Cbc0012I Integer solution of 465 found by DiveCoefficient after 1164 iterations and 0 nodes (0.51 seconds)\n",
      "Cbc0031I 656 added rows had average density of 2.1646341\n",
      "Cbc0013I At root node, 656 cuts changed objective from 441 to 465 in 5 passes\n",
      "Cbc0014I Cut generator 0 (Probing) - 6095 row cuts average 3.0 elements, 94 column cuts (750 active)  in 0.067 seconds - new frequency is 1\n",
      "Cbc0014I Cut generator 1 (Gomory) - 772 row cuts average 2.2 elements, 0 column cuts (0 active)  in 0.015 seconds - new frequency is 1\n",
      "Cbc0014I Cut generator 2 (Knapsack) - 0 row cuts average 0.0 elements, 0 column cuts (0 active)  in 0.003 seconds - new frequency is -100\n",
      "Cbc0014I Cut generator 3 (Clique) - 0 row cuts average 0.0 elements, 0 column cuts (0 active)  in 0.002 seconds - new frequency is -100\n",
      "Cbc0014I Cut generator 4 (MixedIntegerRounding2) - 0 row cuts average 0.0 elements, 0 column cuts (0 active)  in 0.004 seconds - new frequency is -100\n",
      "Cbc0014I Cut generator 5 (FlowCover) - 0 row cuts average 0.0 elements, 0 column cuts (0 active)  in 0.004 seconds - new frequency is -100\n",
      "Cbc0014I Cut generator 6 (TwoMirCuts) - 1346 row cuts average 2.1 elements, 0 column cuts (0 active)  in 0.035 seconds - new frequency is 1\n",
      "Cbc0001I Search completed - best objective 465, took 1164 iterations and 0 nodes (0.52 seconds)\n",
      "Cbc0035I Maximum depth 0, 0 variables fixed on reduced cost\n",
      "Cuts at root node changed objective from 441 to 465\n",
      "Probing was tried 5 times and created 6189 cuts of which 656 were active after adding rounds of cuts (0.067 seconds)\n",
      "Gomory was tried 5 times and created 772 cuts of which 0 were active after adding rounds of cuts (0.015 seconds)\n",
      "Knapsack was tried 5 times and created 0 cuts of which 0 were active after adding rounds of cuts (0.003 seconds)\n",
      "Clique was tried 5 times and created 0 cuts of which 0 were active after adding rounds of cuts (0.002 seconds)\n",
      "MixedIntegerRounding2 was tried 5 times and created 0 cuts of which 0 were active after adding rounds of cuts (0.004 seconds)\n",
      "FlowCover was tried 5 times and created 0 cuts of which 0 were active after adding rounds of cuts (0.004 seconds)\n",
      "TwoMirCuts was tried 5 times and created 1346 cuts of which 0 were active after adding rounds of cuts (0.035 seconds)\n",
      "ZeroHalf was tried 1 times and created 0 cuts of which 0 were active after adding rounds of cuts (0.032 seconds)\n",
      "\n",
      "Result - Optimal solution found\n",
      "\n",
      "Objective value:                465.00000000\n",
      "Enumerated nodes:               0\n",
      "Total iterations:               1164\n",
      "Time (CPU seconds):             0.52\n",
      "Time (Wallclock seconds):       0.55\n",
      "\n",
      "Option for printingOptions changed from normal to all\n",
      "Total time (CPU seconds):       0.53   (Wallclock seconds):       0.56\n",
      "\n"
     ]
    }
   ],
   "source": [
    "pulp_prob.solve()"
   ]
  },
  {
   "cell_type": "code",
   "execution_count": 13,
   "metadata": {
    "execution": {
     "iopub.execute_input": "2023-05-15T12:00:17.387161Z",
     "iopub.status.busy": "2023-05-15T12:00:17.386350Z",
     "iopub.status.idle": "2023-05-15T12:00:17.408349Z",
     "shell.execute_reply": "2023-05-15T12:00:17.407590Z",
     "shell.execute_reply.started": "2023-05-15T12:00:17.387085Z"
    },
    "tags": []
   },
   "outputs": [
    {
     "name": "stdout",
     "output_type": "stream",
     "text": [
      "Problem status: Optimal\n",
      "Obective value: 465.0\n"
     ]
    }
   ],
   "source": [
    "pulp_prob.show_status()"
   ]
  },
  {
   "cell_type": "markdown",
   "metadata": {},
   "source": [
    "## Modeling - with Gurobi"
   ]
  },
  {
   "cell_type": "code",
   "execution_count": 14,
   "metadata": {
    "execution": {
     "iopub.execute_input": "2023-05-15T12:00:22.181076Z",
     "iopub.status.busy": "2023-05-15T12:00:22.180787Z",
     "iopub.status.idle": "2023-05-15T12:00:22.196671Z",
     "shell.execute_reply": "2023-05-15T12:00:22.195909Z",
     "shell.execute_reply.started": "2023-05-15T12:00:22.181052Z"
    },
    "tags": []
   },
   "outputs": [],
   "source": [
    "instance_name = \"medium\"\n",
    "inst = Instance(instance_name)\n",
    "inst.load(f\"instances/{instance_name}.json\")"
   ]
  },
  {
   "cell_type": "code",
   "execution_count": 15,
   "metadata": {
    "execution": {
     "iopub.execute_input": "2023-05-15T12:00:22.667154Z",
     "iopub.status.busy": "2023-05-15T12:00:22.666475Z",
     "iopub.status.idle": "2023-05-15T12:00:22.687160Z",
     "shell.execute_reply": "2023-05-15T12:00:22.686373Z",
     "shell.execute_reply.started": "2023-05-15T12:00:22.667098Z"
    },
    "tags": []
   },
   "outputs": [],
   "source": [
    "gurobi_prob = Gurobi_Problem(inst)"
   ]
  },
  {
   "cell_type": "code",
   "execution_count": 16,
   "metadata": {
    "execution": {
     "iopub.execute_input": "2023-05-15T12:00:23.323730Z",
     "iopub.status.busy": "2023-05-15T12:00:23.322528Z",
     "iopub.status.idle": "2023-05-15T12:00:29.346450Z",
     "shell.execute_reply": "2023-05-15T12:00:29.345837Z",
     "shell.execute_reply.started": "2023-05-15T12:00:23.323680Z"
    },
    "tags": []
   },
   "outputs": [
    {
     "name": "stdout",
     "output_type": "stream",
     "text": [
      "Generating Gurobi problem for medium...\n",
      "Adding jobs/tasks variables and constraints...\n",
      "Adding machines and operators variables and constraints...\n",
      "Adding objective function...\n",
      "Gurobi problem generated.\n"
     ]
    }
   ],
   "source": [
    "gurobi_prob.generate_problem()"
   ]
  },
  {
   "cell_type": "code",
   "execution_count": 12,
   "metadata": {
    "execution": {
     "iopub.execute_input": "2023-05-15T11:56:54.163251Z",
     "iopub.status.busy": "2023-05-15T11:56:54.162561Z",
     "iopub.status.idle": "2023-05-15T11:56:54.703076Z",
     "shell.execute_reply": "2023-05-15T11:56:54.702379Z",
     "shell.execute_reply.started": "2023-05-15T11:56:54.163192Z"
    },
    "tags": []
   },
   "outputs": [
    {
     "name": "stdout",
     "output_type": "stream",
     "text": [
      "Problem saved to lp_problems/gurobi_large.mps\n"
     ]
    }
   ],
   "source": [
    "gurobi_prob.savefile()"
   ]
  },
  {
   "cell_type": "code",
   "execution_count": 5,
   "metadata": {
    "execution": {
     "iopub.execute_input": "2023-05-15T10:40:38.625033Z",
     "iopub.status.busy": "2023-05-15T10:40:38.624848Z",
     "iopub.status.idle": "2023-05-15T10:40:38.707660Z",
     "shell.execute_reply": "2023-05-15T10:40:38.707242Z",
     "shell.execute_reply.started": "2023-05-15T10:40:38.625017Z"
    },
    "tags": []
   },
   "outputs": [],
   "source": [
    "gurobi_prob.inst.greedy_solve()\n",
    "gurobi_prob.warmup()"
   ]
  },
  {
   "cell_type": "markdown",
   "metadata": {},
   "source": [
    "PreSolve (more aggressive application of presolve takes more time, but can sometimes lead to a significantly tighter model):\n",
    "- -1: automatic setting\n",
    "- 0: off\n",
    "- 1: conservative\n",
    "- 2: aggressive"
   ]
  },
  {
   "cell_type": "markdown",
   "metadata": {},
   "source": [
    "Method (algorithm used to solve the initial root relaxation of the MIP model):\n",
    "- -1: automatic\n",
    "- 0: primal simplex\n",
    "- 1: dual simplex\n",
    "- 2: barrier\n",
    "- 3: concurrent\n",
    "- 4: deterministic concurrent\n",
    "- 5: deterministic concurrent simplex"
   ]
  },
  {
   "cell_type": "code",
   "execution_count": 6,
   "metadata": {
    "execution": {
     "iopub.execute_input": "2023-05-15T10:40:43.425106Z",
     "iopub.status.busy": "2023-05-15T10:40:43.424517Z",
     "iopub.status.idle": "2023-05-15T10:40:43.434739Z",
     "shell.execute_reply": "2023-05-15T10:40:43.433926Z",
     "shell.execute_reply.started": "2023-05-15T10:40:43.425081Z"
    },
    "tags": []
   },
   "outputs": [
    {
     "name": "stdout",
     "output_type": "stream",
     "text": [
      "Set parameter Presolve to value 2\n",
      "Set parameter TimeLimit to value 1800\n"
     ]
    }
   ],
   "source": [
    "gurobi_prob.m.Params.PreSolve = 2\n",
    "gurobi_prob.m.Params.Method = -1\n",
    "gurobi_prob.m.Params.TimeLimit = 30*60"
   ]
  },
  {
   "cell_type": "code",
   "execution_count": 7,
   "metadata": {
    "execution": {
     "iopub.execute_input": "2023-05-15T10:40:50.203126Z",
     "iopub.status.busy": "2023-05-15T10:40:50.202930Z",
     "iopub.status.idle": "2023-05-15T11:10:51.046361Z",
     "shell.execute_reply": "2023-05-15T11:10:51.029150Z",
     "shell.execute_reply.started": "2023-05-15T10:40:50.203112Z"
    },
    "tags": []
   },
   "outputs": [
    {
     "name": "stdout",
     "output_type": "stream",
     "text": [
      "Gurobi Optimizer version 10.0.1 build v10.0.1rc0 (linux64)\n",
      "\n",
      "CPU model: Intel(R) Core(TM) i5-10300H CPU @ 2.50GHz, instruction set [SSE2|AVX|AVX2]\n",
      "Thread count: 4 physical cores, 8 logical processors, using up to 8 threads\n",
      "\n",
      "Optimize a model with 248965 rows, 167724 columns and 830244 nonzeros\n",
      "Model fingerprint: 0x9e8aadb8\n",
      "Variable types: 0 continuous, 167724 integer (167404 binary)\n",
      "Coefficient statistics:\n",
      "  Matrix range     [1e+00, 2e+02]\n",
      "  Objective range  [2e+00, 1e+02]\n",
      "  Bounds range     [1e+00, 1e+00]\n",
      "  RHS range        [1e+00, 9e+01]\n",
      "\n",
      "Warning: Completing partial solution with 165590 unfixed non-continuous variables out of 167724\n",
      "User MIP start produced solution with objective 5079 (0.41s)\n",
      "Loaded user MIP start with objective 5079\n",
      "\n",
      "Presolve removed 2982 rows and 2119 columns (presolve time = 5s) ...\n",
      "Presolve removed 2982 rows and 2119 columns (presolve time = 157s) ...\n",
      "Presolve removed 5767 rows and 5341 columns (presolve time = 160s) ...\n",
      "Presolve removed 5767 rows and 5341 columns (presolve time = 255s) ...\n",
      "Presolve removed 5767 rows and 5341 columns (presolve time = 342s) ...\n",
      "Presolve removed 5767 rows and 5341 columns\n",
      "Presolve time: 343.34s\n",
      "Presolved: 243198 rows, 162383 columns, 827781 nonzeros\n",
      "Variable types: 0 continuous, 162383 integer (162214 binary)\n",
      "Root relaxation presolve removed 63 rows and 5 columns\n",
      "Root relaxation presolved: 243135 rows, 162378 columns, 827594 nonzeros\n",
      "\n",
      "Deterministic concurrent LP optimizer: primal simplex, dual simplex, and barrier\n",
      "Showing barrier log only...\n",
      "\n",
      "Root barrier log...\n",
      "\n",
      "Ordering time: 0.96s\n",
      "\n",
      "Barrier performed 0 iterations in 347.88 seconds (57.03 work units)\n",
      "Barrier solve interrupted - model solved by another algorithm\n",
      "\n",
      "Concurrent spin time: 1.55s (can be avoided by choosing Method=3)\n",
      "\n",
      "Solved with primal simplex\n",
      "\n",
      "Root simplex log...\n",
      "\n",
      "Iteration    Objective       Primal Inf.    Dual Inf.      Time\n",
      "    1871    4.2060000e+03   0.000000e+00   0.000000e+00    350s\n",
      "\n",
      "Root relaxation: objective 4.206000e+03, 1871 iterations, 4.61 seconds (1.15 work units)\n",
      "Total elapsed time = 350.96s\n",
      "Total elapsed time = 355.32s\n",
      "\n",
      "    Nodes    |    Current Node    |     Objective Bounds      |     Work\n",
      " Expl Unexpl |  Obj  Depth IntInf | Incumbent    BestBd   Gap | It/Node Time\n",
      "\n",
      "     0     0 4206.00000    0  170 5079.00000 4206.00000  17.2%     -  356s\n",
      "     0     0 4206.00000    0  169 5079.00000 4206.00000  17.2%     -  365s\n",
      "     0     0 4206.00000    0  171 5079.00000 4206.00000  17.2%     -  373s\n",
      "     0     0 4206.00000    0  146 5079.00000 4206.00000  17.2%     -  379s\n",
      "     0     0 4206.00000    0  136 5079.00000 4206.00000  17.2%     -  385s\n",
      "     0     0 4206.00000    0  150 5079.00000 4206.00000  17.2%     -  390s\n",
      "     0     0 4206.00000    0  154 5079.00000 4206.00000  17.2%     -  398s\n",
      "     0     0 4206.00000    0  164 5079.00000 4206.00000  17.2%     -  403s\n",
      "     0     0 4206.00000    0  149 5079.00000 4206.00000  17.2%     -  407s\n",
      "     0     2 4206.00000    0  149 5079.00000 4206.00000  17.2%     -  439s\n",
      "     1     4 4206.00000    1  158 5079.00000 4206.00000  17.2%  1690  440s\n",
      "     7    12 4206.00000    3  210 5079.00000 4206.00000  17.2%   351  445s\n",
      "    23    28 4206.00000    7  226 5079.00000 4206.00000  17.2%   139  450s\n",
      "    31    36 4206.00000    9  225 5079.00000 4206.00000  17.2%   105  456s\n",
      "    35    45 4206.00000   10  215 5079.00000 4206.00000  17.2%  94.0  460s\n",
      "    54    71 4206.00000   14  222 5079.00000 4206.00000  17.2%  63.0  468s\n",
      "    70   109 4206.00000   18  220 5079.00000 4206.00000  17.2%  50.0  481s\n",
      "   108   164 4206.00000   28  198 5079.00000 4206.00000  17.2%  35.4  503s\n",
      "   163   245 4206.00000   40  203 5079.00000 4206.00000  17.2%  24.7  526s\n",
      "H  177   245                    5072.0000000 4206.00000  17.1%  23.0  526s\n",
      "   244   552 4206.00000   60  217 5072.00000 4206.00000  17.1%  18.0  581s\n",
      "   551   750 4206.00000  137  225 5072.00000 4206.00000  17.1%  11.4  627s\n",
      "   749   821 4206.00000  192  240 5072.00000 4206.00000  17.1%  10.4  659s\n",
      "   820  1133 4206.00000  202  231 5072.00000 4206.00000  17.1%   9.8  720s\n",
      "  1132  1413 4206.00000  278  238 5072.00000 4206.00000  17.1%   9.1  787s\n",
      "H 1412  1697                    5071.0000000 4206.00000  17.1%   8.6  842s\n",
      "  1696  1729 4206.00000  408  251 5071.00000 4206.00000  17.1%   8.6  893s\n",
      "H 1726  1729                    5049.0000000 4206.00000  16.7%   8.5  893s\n",
      "H 1728  1764                    5042.0000000 4206.00000  16.6%   8.5  924s\n",
      "  1763  2076 4206.00000  409  243 5042.00000 4206.00000  16.6%   8.4  976s\n",
      "  2075  2373 4217.00000  485  256 5042.00000 4206.00000  16.6%   8.9 1046s\n",
      "  2373  2671 4217.00000  560  260 5042.00000 4206.00000  16.6%   9.8 1117s\n",
      "  2672  2983 4264.00000  627  304 5042.00000 4206.00000  16.6%  12.0 1181s\n",
      "  2984  3262 4331.00000  702  293 5042.00000 4206.00000  16.6%  12.2 1239s\n",
      "  3264  3574 4331.00000  771  299 5042.00000 4206.00000  16.6%  13.7 1285s\n",
      "  3576  3578 4379.00000  846  291 5042.00000 4206.00000  16.6%  13.8 1338s\n",
      "  3580  3845 4379.00000  847  290 5042.00000 4206.00000  16.6%  13.9 1385s\n",
      "  3850  4141 4379.00000  925  292 5042.00000 4206.00000  16.6%  13.5 1452s\n",
      "  4148  4438 4420.00000 1001  291 5042.00000 4206.00000  16.6%  13.7 1508s\n",
      "  4447  4749 4540.00000 1066  310 5042.00000 4206.00000  16.6%  14.7 1552s\n",
      "  4759  5057 4540.00000 1143  315 5042.00000 4206.00000  16.6%  14.9 1603s\n",
      "  5071  5362 4581.00000 1217  298 5042.00000 4206.00000  16.6%  15.2 1655s\n",
      "  5384  5363 4206.00000  101  149 5042.00000 4206.00000  16.6%  15.2 1736s\n",
      "  5386  5364 4322.25806  812  116 5042.00000 4206.00000  16.6%  15.2 1761s\n",
      "  5387  5365 4228.00000  200  142 5042.00000 4206.00000  16.6%  15.2 1778s\n",
      "  5388  5366 4217.00000  526  158 5042.00000 4206.00000  16.6%  15.2 1782s\n",
      "\n",
      "Cutting planes:\n",
      "  Gomory: 6\n",
      "  Cover: 1\n",
      "  Implied bound: 189\n",
      "  Clique: 3\n",
      "  MIR: 24\n",
      "  StrongCG: 14\n",
      "  Flow cover: 161\n",
      "  Zero half: 77\n",
      "  RLT: 2555\n",
      "  Relax-and-lift: 10948\n",
      "\n",
      "Explored 5388 nodes (122733 simplex iterations) in 1800.52 seconds (511.56 work units)\n",
      "Thread count was 8 (of 8 available processors)\n",
      "\n",
      "Solution count 5: 5042 5049 5071 ... 5079\n",
      "\n",
      "Time limit reached\n",
      "Best objective 5.042000000000e+03, best bound 4.206000000000e+03, gap 16.5807%\n"
     ]
    }
   ],
   "source": [
    "gurobi_prob.solve()"
   ]
  },
  {
   "cell_type": "code",
   "execution_count": 8,
   "metadata": {
    "execution": {
     "iopub.execute_input": "2023-05-15T11:10:51.094968Z",
     "iopub.status.busy": "2023-05-15T11:10:51.092963Z",
     "iopub.status.idle": "2023-05-15T11:10:51.390211Z",
     "shell.execute_reply": "2023-05-15T11:10:51.389322Z",
     "shell.execute_reply.started": "2023-05-15T11:10:51.094731Z"
    },
    "tags": []
   },
   "outputs": [
    {
     "name": "stdout",
     "output_type": "stream",
     "text": [
      "Problem status: TIME_LIMIT\n",
      "Obective value: 5042.0\n"
     ]
    }
   ],
   "source": [
    "gurobi_prob.show_status()"
   ]
  },
  {
   "cell_type": "code",
   "execution_count": null,
   "metadata": {},
   "outputs": [],
   "source": []
  }
 ],
 "metadata": {
  "kernelspec": {
   "display_name": "Python 3 (ipykernel)",
   "language": "python",
   "name": "python3"
  },
  "language_info": {
   "codemirror_mode": {
    "name": "ipython",
    "version": 3
   },
   "file_extension": ".py",
   "mimetype": "text/x-python",
   "name": "python",
   "nbconvert_exporter": "python",
   "pygments_lexer": "ipython3",
   "version": "3.11.3"
  }
 },
 "nbformat": 4,
 "nbformat_minor": 4
}
