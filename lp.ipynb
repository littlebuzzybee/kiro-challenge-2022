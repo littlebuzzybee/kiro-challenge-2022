{
 "cells": [
  {
   "cell_type": "markdown",
   "metadata": {},
   "source": [
    "# Linear programming approach"
   ]
  },
  {
   "cell_type": "markdown",
   "metadata": {},
   "source": [
    "## Imports"
   ]
  },
  {
   "cell_type": "code",
   "execution_count": 1,
   "metadata": {
    "execution": {
     "iopub.execute_input": "2023-05-16T21:55:12.694019Z",
     "iopub.status.busy": "2023-05-16T21:55:12.693906Z",
     "iopub.status.idle": "2023-05-16T21:55:12.798806Z",
     "shell.execute_reply": "2023-05-16T21:55:12.798377Z",
     "shell.execute_reply.started": "2023-05-16T21:55:12.694006Z"
    },
    "tags": []
   },
   "outputs": [],
   "source": [
    "import json\n",
    "from pulp import *\n",
    "from utils import Instance, PuLP_Problem, Gurobi_Problem\n",
    "\n",
    "%load_ext autoreload\n",
    "%autoreload 2"
   ]
  },
  {
   "cell_type": "markdown",
   "metadata": {},
   "source": [
    "## Problem statement"
   ]
  },
  {
   "cell_type": "markdown",
   "metadata": {},
   "source": [
    "**Constraints**\n",
    "\n",
    "Pre-emption not allowed, full running time for each task:\n",
    "$$\\forall i \\in \\mathcal{I}, C_i = B_i + p_i$$\n",
    "\n",
    "Release time:\n",
    "$$\\forall i \\in \\mathcal{I}, B_i \\ge r_{j(i)}$$\n",
    "\n",
    "Tasks have to be completed in order for each job:\n",
    "$$\\forall j \\in \\mathcal{J}, \\forall i < i' \\in S_j, B_{i'} \\ge C_i$$\n",
    "\n",
    "Two operators or two machines cannot handle more than one task at once:\n",
    "$$\\forall i \\ne i' \\in \\mathcal{I}\\,\\text{s.t.}\\,m_{i'}=m_{i}\\,\\text{or}\\,o_{i'}=o_i, B_{i'} \\notin \\{B_i, \\dots, B_i+p_i-1\\}$$"
   ]
  },
  {
   "cell_type": "markdown",
   "metadata": {},
   "source": [
    "**Objective**\n",
    "\n",
    "$$\\forall j \\in \\mathcal{J}, T_j := \\max(0, C_j - d_j)$$\n",
    "$$\\forall j \\in \\mathcal{J}, U_j := \\mathbb{1}_{C_j > d_j}$$\n",
    "\n",
    "$$\\min \\sum_{j \\in \\mathcal{J}} w_j (C_j + \\alpha U_j + \\beta T_j)$$"
   ]
  },
  {
   "cell_type": "markdown",
   "metadata": {},
   "source": [
    "## Greedy sub-optimal solution"
   ]
  },
  {
   "cell_type": "code",
   "execution_count": 2,
   "metadata": {
    "execution": {
     "iopub.execute_input": "2023-05-16T21:55:14.118839Z",
     "iopub.status.busy": "2023-05-16T21:55:14.118190Z",
     "iopub.status.idle": "2023-05-16T21:55:14.136895Z",
     "shell.execute_reply": "2023-05-16T21:55:14.136436Z",
     "shell.execute_reply.started": "2023-05-16T21:55:14.118780Z"
    },
    "tags": []
   },
   "outputs": [
    {
     "name": "stdout",
     "output_type": "stream",
     "text": [
      "J=5 (number of jobs)\n",
      "I=25 (number of tasks)\n",
      "M=8 (number of machines)\n",
      "O=8 (number of operators)\n",
      "α=6 (unit penalty)\n",
      "β=1 (tardiness)\n"
     ]
    }
   ],
   "source": [
    "instance_name = \"tiny\"\n",
    "inst = Instance(instance_name)\n",
    "inst.load(f\"instances/{instance_name}.json\")\n",
    "print(f\"J={inst.J} (number of jobs)\\n\" +\n",
    "      f\"I={inst.I} (number of tasks)\\n\" +\n",
    "      f\"M={inst.M} (number of machines)\\n\" +\n",
    "      f\"O={inst.O} (number of operators)\\n\" +\n",
    "      f\"α={inst.alpha} (unit penalty)\\n\" +\n",
    "      f\"β={inst.beta} (tardiness)\")"
   ]
  },
  {
   "cell_type": "code",
   "execution_count": 3,
   "metadata": {
    "execution": {
     "iopub.execute_input": "2023-05-16T21:55:14.366129Z",
     "iopub.status.busy": "2023-05-16T21:55:14.365508Z",
     "iopub.status.idle": "2023-05-16T21:55:14.381005Z",
     "shell.execute_reply": "2023-05-16T21:55:14.380367Z",
     "shell.execute_reply.started": "2023-05-16T21:55:14.366084Z"
    },
    "tags": []
   },
   "outputs": [
    {
     "name": "stdout",
     "output_type": "stream",
     "text": [
      "greedy heuristic cost: 537\n",
      "finish time:   19\n",
      "max. due time: 19\n"
     ]
    }
   ],
   "source": [
    "inst.greedy_solve()\n",
    "print(f\"greedy heuristic cost: {inst.cost()}\")\n",
    "print(f\"finish time:   {max([j.C() for j in inst.jobs.values()])}\")\n",
    "print(f\"max. due time: {max([j.d for j in inst.jobs.values()])}\")"
   ]
  },
  {
   "cell_type": "code",
   "execution_count": 4,
   "metadata": {
    "execution": {
     "iopub.execute_input": "2023-05-16T21:55:14.778184Z",
     "iopub.status.busy": "2023-05-16T21:55:14.776972Z",
     "iopub.status.idle": "2023-05-16T21:55:14.797672Z",
     "shell.execute_reply": "2023-05-16T21:55:14.795920Z",
     "shell.execute_reply.started": "2023-05-16T21:55:14.778073Z"
    },
    "tags": []
   },
   "outputs": [
    {
     "name": "stdout",
     "output_type": "stream",
     "text": [
      "saved file solution cost: 1067\n"
     ]
    }
   ],
   "source": [
    "with open(f\"solutions/KIRO-{instance_name}.json\", 'rb') as f:\n",
    "    sol = json.load(f)\n",
    "for d in sol:\n",
    "    task = inst.tasks[d['task']]\n",
    "    task.B = d['start']\n",
    "    task.C = d['start'] + task.p\n",
    "print(f\"saved file solution cost: {inst.cost()}\")"
   ]
  },
  {
   "cell_type": "markdown",
   "metadata": {},
   "source": [
    "## Modeling - with PuLP"
   ]
  },
  {
   "cell_type": "code",
   "execution_count": 5,
   "metadata": {
    "execution": {
     "iopub.execute_input": "2023-05-16T21:55:15.475894Z",
     "iopub.status.busy": "2023-05-16T21:55:15.474079Z",
     "iopub.status.idle": "2023-05-16T21:55:15.495675Z",
     "shell.execute_reply": "2023-05-16T21:55:15.494882Z",
     "shell.execute_reply.started": "2023-05-16T21:55:15.475788Z"
    },
    "tags": []
   },
   "outputs": [],
   "source": [
    "pulp_prob = PuLP_Problem(inst)"
   ]
  },
  {
   "cell_type": "code",
   "execution_count": 6,
   "metadata": {
    "execution": {
     "iopub.execute_input": "2023-05-16T21:55:15.878385Z",
     "iopub.status.busy": "2023-05-16T21:55:15.877856Z",
     "iopub.status.idle": "2023-05-16T21:55:15.934393Z",
     "shell.execute_reply": "2023-05-16T21:55:15.933759Z",
     "shell.execute_reply.started": "2023-05-16T21:55:15.878335Z"
    },
    "tags": []
   },
   "outputs": [
    {
     "name": "stdout",
     "output_type": "stream",
     "text": [
      "Generating PuLP problem for tiny...\n",
      "Adding jobs/tasks variables and constraints...\n",
      "Adding machines and operators variables and constraints...\n",
      "Adding objective function...\n",
      "PuLP problem generated.\n"
     ]
    }
   ],
   "source": [
    "pulp_prob.generate_problem()"
   ]
  },
  {
   "cell_type": "code",
   "execution_count": 7,
   "metadata": {
    "execution": {
     "iopub.execute_input": "2023-05-16T21:55:16.413296Z",
     "iopub.status.busy": "2023-05-16T21:55:16.412852Z",
     "iopub.status.idle": "2023-05-16T21:55:16.431107Z",
     "shell.execute_reply": "2023-05-16T21:55:16.429969Z",
     "shell.execute_reply.started": "2023-05-16T21:55:16.413254Z"
    },
    "tags": []
   },
   "outputs": [
    {
     "name": "stdout",
     "output_type": "stream",
     "text": [
      "Problem tiny has 1675 variables and 2311 constraints\n"
     ]
    }
   ],
   "source": [
    "pulp_prob.show_info()"
   ]
  },
  {
   "cell_type": "code",
   "execution_count": 8,
   "metadata": {
    "execution": {
     "iopub.execute_input": "2023-05-16T21:55:16.855942Z",
     "iopub.status.busy": "2023-05-16T21:55:16.854636Z",
     "iopub.status.idle": "2023-05-16T21:55:16.931920Z",
     "shell.execute_reply": "2023-05-16T21:55:16.931544Z",
     "shell.execute_reply.started": "2023-05-16T21:55:16.855898Z"
    },
    "tags": []
   },
   "outputs": [
    {
     "name": "stdout",
     "output_type": "stream",
     "text": [
      "Problem saved to lp_problems/pulp_tiny.mps\n"
     ]
    }
   ],
   "source": [
    "pulp_prob.savefile()"
   ]
  },
  {
   "cell_type": "code",
   "execution_count": 9,
   "metadata": {
    "execution": {
     "iopub.execute_input": "2023-05-16T21:55:17.324339Z",
     "iopub.status.busy": "2023-05-16T21:55:17.324035Z",
     "iopub.status.idle": "2023-05-16T21:55:17.342660Z",
     "shell.execute_reply": "2023-05-16T21:55:17.342210Z",
     "shell.execute_reply.started": "2023-05-16T21:55:17.324318Z"
    },
    "tags": []
   },
   "outputs": [
    {
     "name": "stdout",
     "output_type": "stream",
     "text": [
      "Set parameter Username\n",
      "Academic license - for non-commercial use only - expires 2024-05-13\n",
      "No parameters matching '_test' found\n"
     ]
    },
    {
     "data": {
      "text/plain": [
       "['GLPK_CMD', 'GUROBI', 'GUROBI_CMD', 'PULP_CBC_CMD', 'COIN_CMD']"
      ]
     },
     "execution_count": 9,
     "metadata": {},
     "output_type": "execute_result"
    }
   ],
   "source": [
    "listSolvers(onlyAvailable=True)"
   ]
  },
  {
   "cell_type": "code",
   "execution_count": 10,
   "metadata": {
    "execution": {
     "iopub.execute_input": "2023-05-16T21:55:17.970885Z",
     "iopub.status.busy": "2023-05-16T21:55:17.969315Z",
     "iopub.status.idle": "2023-05-16T21:55:17.985025Z",
     "shell.execute_reply": "2023-05-16T21:55:17.984095Z",
     "shell.execute_reply.started": "2023-05-16T21:55:17.970830Z"
    },
    "tags": []
   },
   "outputs": [],
   "source": [
    "pulp_prob.inst.greedy_solve()\n",
    "pulp_prob.warmup()"
   ]
  },
  {
   "cell_type": "code",
   "execution_count": 11,
   "metadata": {
    "execution": {
     "iopub.execute_input": "2023-05-16T21:55:18.531276Z",
     "iopub.status.busy": "2023-05-16T21:55:18.531112Z",
     "iopub.status.idle": "2023-05-16T21:55:18.539560Z",
     "shell.execute_reply": "2023-05-16T21:55:18.538874Z",
     "shell.execute_reply.started": "2023-05-16T21:55:18.531262Z"
    },
    "tags": []
   },
   "outputs": [],
   "source": [
    "pulp_prob.set_solver(PULP_CBC_CMD(msg=True, warmStart=True))"
   ]
  },
  {
   "cell_type": "code",
   "execution_count": 12,
   "metadata": {
    "execution": {
     "iopub.execute_input": "2023-05-16T21:55:19.538489Z",
     "iopub.status.busy": "2023-05-16T21:55:19.537792Z",
     "iopub.status.idle": "2023-05-16T21:55:20.211712Z",
     "shell.execute_reply": "2023-05-16T21:55:20.211279Z",
     "shell.execute_reply.started": "2023-05-16T21:55:19.538428Z"
    },
    "tags": []
   },
   "outputs": [
    {
     "name": "stdout",
     "output_type": "stream",
     "text": [
      "Welcome to the CBC MILP Solver \n",
      "Version: 2.10.3 \n",
      "Build Date: Dec 15 2019 \n",
      "\n",
      "command line - /home/louis/anaconda3/envs/perso/lib/python3.11/site-packages/pulp/solverdir/cbc/linux/64/cbc /tmp/fe6660fcd28647d9a4fe38bd8881f828-pulp.mps mips /tmp/fe6660fcd28647d9a4fe38bd8881f828-pulp.mst timeMode elapsed branch printingOptions all solution /tmp/fe6660fcd28647d9a4fe38bd8881f828-pulp.sol (default strategy 1)\n",
      "At line 2 NAME          MODEL\n",
      "At line 3 ROWS\n",
      "At line 2316 COLUMNS\n",
      "At line 13273 RHS\n",
      "At line 15585 BOUNDS\n",
      "At line 17261 ENDATA\n",
      "Problem MODEL has 2311 rows, 1675 columns and 7591 elements\n",
      "Coin0008I MODEL read with 0 errors\n",
      "opening mipstart file /tmp/fe6660fcd28647d9a4fe38bd8881f828-pulp.mst.\n",
      "MIPStart values read for 1675 variables.\n",
      "Option for timeMode changed from cpu to elapsed\n",
      "Continuous objective value is 441 - 0.02 seconds\n",
      "Cgl0003I 0 fixed, 1 tightened bounds, 241 strengthened rows, 0 substitutions\n",
      "Cgl0004I processed model has 2280 rows, 1654 columns (1654 integer (1599 of which binary)) and 7738 elements\n",
      "Cutoff increment increased from 1e-05 to 0.9999\n",
      "Cbc0045I Fixing only non-zero variables.\n",
      "Cbc0045I MIPStart solution provided values for 1654 of 1654 integer variables, 810 variables are still fractional.\n",
      "Cbc0045I Warning: mipstart values could not be used to build a solution.\n",
      "Cbc0038I Initial state - 741 integers unsatisfied sum - 116.368\n",
      "Cbc0038I Pass   1: suminf.   89.54688 (783) obj. 770.5 iterations 516\n",
      "Cbc0038I Pass   2: suminf.   89.54688 (783) obj. 770.5 iterations 0\n",
      "Cbc0038I Pass   3: suminf.   81.33635 (756) obj. 770.5 iterations 30\n",
      "Cbc0038I Pass   4: suminf.   77.65214 (742) obj. 770.5 iterations 21\n",
      "Cbc0038I Pass   5: suminf.   73.38566 (718) obj. 775 iterations 38\n",
      "Cbc0038I Pass   6: suminf.   68.06987 (694) obj. 775 iterations 35\n",
      "Cbc0038I Pass   7: suminf.   65.96461 (684) obj. 775 iterations 12\n",
      "Cbc0038I Pass   8: suminf.   61.64882 (663) obj. 775 iterations 40\n",
      "Cbc0038I Pass   9: suminf.   58.88566 (648) obj. 775 iterations 30\n",
      "Cbc0038I Pass  10: suminf.   55.20145 (628) obj. 775 iterations 29\n",
      "Cbc0038I Pass  11: suminf.   51.15380 (605) obj. 775 iterations 34\n",
      "Cbc0038I Pass  12: suminf.   48.62748 (589) obj. 775 iterations 24\n",
      "Cbc0038I Pass  13: suminf.   44.99590 (566) obj. 775 iterations 31\n",
      "Cbc0038I Pass  14: suminf.   42.62748 (551) obj. 775 iterations 29\n",
      "Cbc0038I Pass  15: suminf.   38.87535 (524) obj. 775 iterations 46\n",
      "Cbc0038I Pass  16: suminf.   35.19114 (496) obj. 775 iterations 44\n",
      "Cbc0038I Pass  17: suminf.   31.90166 (471) obj. 775 iterations 45\n",
      "Cbc0038I Pass  18: suminf.   29.12773 (447) obj. 775 iterations 53\n",
      "Cbc0038I Pass  19: suminf.   26.90282 (426) obj. 775 iterations 32\n",
      "Cbc0038I Pass  20: suminf.   25.32387 (411) obj. 775 iterations 31\n",
      "Cbc0038I Pass  21: suminf.   22.27124 (382) obj. 775 iterations 48\n",
      "Cbc0038I Pass  22: suminf.   21.21861 (372) obj. 775 iterations 26\n",
      "Cbc0038I Pass  23: suminf.   19.21861 (353) obj. 775 iterations 28\n",
      "Cbc0038I Pass  24: suminf.   18.23409 (343) obj. 775 iterations 18\n",
      "Cbc0038I Pass  25: suminf.   15.79024 (314) obj. 775 iterations 59\n",
      "Cbc0038I Pass  26: suminf.   15.03201 (305) obj. 775 iterations 29\n",
      "Cbc0038I Pass  27: suminf.   13.52881 (280) obj. 896.6 iterations 45\n",
      "Cbc0038I Pass  28: suminf.   11.23798 (256) obj. 896.6 iterations 58\n",
      "Cbc0038I Pass  29: suminf.   10.03447 (239) obj. 957.4 iterations 41\n",
      "Cbc0038I Pass  30: suminf.    8.57771 (209) obj. 1193 iterations 48\n",
      "Cbc0038I No solution found this major pass\n",
      "Cbc0038I Before mini branch and bound, 638 integers at bound fixed and 0 continuous\n",
      "Cbc0038I Full problem 2280 rows 1654 columns, reduced to 341 rows 112 columns\n",
      "Cbc0038I Mini branch and bound improved solution from 1.79769e+308 to 687 (0.26 seconds)\n",
      "Cbc0038I Round again with cutoff of 661.5\n",
      "Cbc0038I Pass  30: suminf.   97.41421 (859) obj. 661.5 iterations 117\n",
      "Cbc0038I Pass  31: suminf.   93.91188 (784) obj. 661.5 iterations 109\n",
      "Cbc0038I Pass  32: suminf.   88.02739 (770) obj. 661.5 iterations 42\n",
      "Cbc0038I Pass  33: suminf.   84.83829 (797) obj. 661.5 iterations 66\n",
      "Cbc0038I Pass  34: suminf.   82.54237 (782) obj. 661.5 iterations 9\n",
      "Cbc0038I Pass  35: suminf.   77.77331 (770) obj. 661.5 iterations 41\n",
      "Cbc0038I Pass  36: suminf.   75.50290 (755) obj. 661.5 iterations 11\n",
      "Cbc0038I Pass  37: suminf.   74.20456 (755) obj. 661.5 iterations 42\n",
      "Cbc0038I Pass  38: suminf.   72.09141 (761) obj. 661.5 iterations 10\n",
      "Cbc0038I Pass  39: suminf.   72.94346 (737) obj. 661.5 iterations 35\n",
      "Cbc0038I Pass  40: suminf.   67.87446 (735) obj. 661.5 iterations 25\n",
      "Cbc0038I Pass  41: suminf.   71.97800 (721) obj. 661.5 iterations 20\n",
      "Cbc0038I Pass  42: suminf.   63.30659 (713) obj. 661.5 iterations 24\n",
      "Cbc0038I Pass  43: suminf.   70.80293 (689) obj. 661.5 iterations 40\n",
      "Cbc0038I Pass  44: suminf.   57.01020 (679) obj. 661.5 iterations 36\n",
      "Cbc0038I Pass  45: suminf.   60.91672 (645) obj. 661.5 iterations 44\n",
      "Cbc0038I Pass  46: suminf.   49.03193 (603) obj. 661.5 iterations 33\n",
      "Cbc0038I Pass  47: suminf.   50.51829 (599) obj. 661.5 iterations 28\n",
      "Cbc0038I Pass  48: suminf.   47.12466 (555) obj. 661.5 iterations 51\n",
      "Cbc0038I Pass  49: suminf.   39.13617 (516) obj. 661.5 iterations 37\n",
      "Cbc0038I Pass  50: suminf.   38.08505 (513) obj. 661.5 iterations 52\n",
      "Cbc0038I Pass  51: suminf.   35.57847 (494) obj. 661.5 iterations 25\n",
      "Cbc0038I Pass  52: suminf.   32.12577 (500) obj. 661.5 iterations 41\n",
      "Cbc0038I Pass  53: suminf.   30.44188 (474) obj. 661.5 iterations 22\n",
      "Cbc0038I Pass  54: suminf.   28.92379 (453) obj. 661.5 iterations 113\n",
      "Cbc0038I Pass  55: suminf.   26.91282 (434) obj. 661.5 iterations 34\n",
      "Cbc0038I Pass  56: suminf.   24.49177 (411) obj. 661.5 iterations 35\n",
      "Cbc0038I Pass  57: suminf.   22.80756 (395) obj. 661.5 iterations 24\n",
      "Cbc0038I Pass  58: suminf.   21.44572 (382) obj. 661.5 iterations 28\n",
      "Cbc0038I Pass  59: suminf.   19.79659 (366) obj. 661.5 iterations 44\n",
      "Cbc0038I No solution found this major pass\n",
      "Cbc0038I Before mini branch and bound, 674 integers at bound fixed and 0 continuous\n",
      "Cbc0038I Full problem 2280 rows 1654 columns, reduced to 174 rows 82 columns\n",
      "Cbc0038I Mini branch and bound did not improve solution (0.39 seconds)\n",
      "Cbc0038I After 0.39 seconds - Feasibility pump exiting with objective of 687 - took 0.29 seconds\n",
      "Cbc0012I Integer solution of 687 found by feasibility pump after 0 iterations and 0 nodes (0.39 seconds)\n",
      "Cbc0038I Full problem 2280 rows 1654 columns, reduced to 41 rows 26 columns\n",
      "Cbc0012I Integer solution of 465 found by DiveCoefficient after 952 iterations and 0 nodes (0.57 seconds)\n",
      "Cbc0031I 752 added rows had average density of 2.1156915\n",
      "Cbc0013I At root node, 752 cuts changed objective from 441 to 465 in 3 passes\n",
      "Cbc0014I Cut generator 0 (Probing) - 4587 row cuts average 2.6 elements, 41 column cuts (793 active)  in 0.039 seconds - new frequency is 1\n",
      "Cbc0014I Cut generator 1 (Gomory) - 825 row cuts average 1.9 elements, 0 column cuts (0 active)  in 0.008 seconds - new frequency is 1\n",
      "Cbc0014I Cut generator 2 (Knapsack) - 0 row cuts average 0.0 elements, 0 column cuts (0 active)  in 0.001 seconds - new frequency is -100\n",
      "Cbc0014I Cut generator 3 (Clique) - 0 row cuts average 0.0 elements, 0 column cuts (0 active)  in 0.001 seconds - new frequency is -100\n",
      "Cbc0014I Cut generator 4 (MixedIntegerRounding2) - 0 row cuts average 0.0 elements, 0 column cuts (0 active)  in 0.002 seconds - new frequency is -100\n",
      "Cbc0014I Cut generator 5 (FlowCover) - 0 row cuts average 0.0 elements, 0 column cuts (0 active)  in 0.001 seconds - new frequency is -100\n",
      "Cbc0014I Cut generator 6 (TwoMirCuts) - 1421 row cuts average 2.0 elements, 0 column cuts (0 active)  in 0.022 seconds - new frequency is 1\n",
      "Cbc0001I Search completed - best objective 465, took 952 iterations and 0 nodes (0.57 seconds)\n",
      "Cbc0035I Maximum depth 0, 0 variables fixed on reduced cost\n",
      "Cuts at root node changed objective from 441 to 465\n",
      "Probing was tried 3 times and created 4628 cuts of which 752 were active after adding rounds of cuts (0.039 seconds)\n",
      "Gomory was tried 3 times and created 825 cuts of which 0 were active after adding rounds of cuts (0.008 seconds)\n",
      "Knapsack was tried 3 times and created 0 cuts of which 0 were active after adding rounds of cuts (0.001 seconds)\n",
      "Clique was tried 3 times and created 0 cuts of which 0 were active after adding rounds of cuts (0.001 seconds)\n",
      "MixedIntegerRounding2 was tried 3 times and created 0 cuts of which 0 were active after adding rounds of cuts (0.002 seconds)\n",
      "FlowCover was tried 3 times and created 0 cuts of which 0 were active after adding rounds of cuts (0.001 seconds)\n",
      "TwoMirCuts was tried 3 times and created 1421 cuts of which 0 were active after adding rounds of cuts (0.022 seconds)\n",
      "ZeroHalf was tried 1 times and created 0 cuts of which 0 were active after adding rounds of cuts (0.023 seconds)\n",
      "\n",
      "Result - Optimal solution found\n",
      "\n",
      "Objective value:                465.00000000\n",
      "Enumerated nodes:               0\n",
      "Total iterations:               952\n",
      "Time (CPU seconds):             0.57\n",
      "Time (Wallclock seconds):       0.59\n",
      "\n",
      "Option for printingOptions changed from normal to all\n",
      "Total time (CPU seconds):       0.58   (Wallclock seconds):       0.60\n",
      "\n"
     ]
    }
   ],
   "source": [
    "pulp_prob.solve()"
   ]
  },
  {
   "cell_type": "code",
   "execution_count": 13,
   "metadata": {
    "execution": {
     "iopub.execute_input": "2023-05-16T21:55:30.923910Z",
     "iopub.status.busy": "2023-05-16T21:55:30.923627Z",
     "iopub.status.idle": "2023-05-16T21:55:30.933807Z",
     "shell.execute_reply": "2023-05-16T21:55:30.933266Z",
     "shell.execute_reply.started": "2023-05-16T21:55:30.923890Z"
    },
    "tags": []
   },
   "outputs": [
    {
     "name": "stdout",
     "output_type": "stream",
     "text": [
      "Problem status: Optimal\n",
      "Obective value: 465.0\n"
     ]
    }
   ],
   "source": [
    "pulp_prob.show_status()"
   ]
  },
  {
   "cell_type": "markdown",
   "metadata": {},
   "source": [
    "## Modeling - with Gurobi"
   ]
  },
  {
   "cell_type": "code",
   "execution_count": 14,
   "metadata": {
    "execution": {
     "iopub.execute_input": "2023-05-16T21:55:34.582023Z",
     "iopub.status.busy": "2023-05-16T21:55:34.581742Z",
     "iopub.status.idle": "2023-05-16T21:55:34.592170Z",
     "shell.execute_reply": "2023-05-16T21:55:34.591721Z",
     "shell.execute_reply.started": "2023-05-16T21:55:34.581997Z"
    },
    "tags": []
   },
   "outputs": [],
   "source": [
    "instance_name = \"tiny\"\n",
    "inst = Instance(instance_name)\n",
    "inst.load(f\"instances/{instance_name}.json\")"
   ]
  },
  {
   "cell_type": "code",
   "execution_count": 15,
   "metadata": {
    "execution": {
     "iopub.execute_input": "2023-05-16T21:55:38.893743Z",
     "iopub.status.busy": "2023-05-16T21:55:38.893442Z",
     "iopub.status.idle": "2023-05-16T21:55:38.903106Z",
     "shell.execute_reply": "2023-05-16T21:55:38.902481Z",
     "shell.execute_reply.started": "2023-05-16T21:55:38.893723Z"
    },
    "tags": []
   },
   "outputs": [],
   "source": [
    "gurobi_prob = Gurobi_Problem(inst)"
   ]
  },
  {
   "cell_type": "code",
   "execution_count": 16,
   "metadata": {
    "execution": {
     "iopub.execute_input": "2023-05-16T21:55:39.593172Z",
     "iopub.status.busy": "2023-05-16T21:55:39.592551Z",
     "iopub.status.idle": "2023-05-16T21:55:39.720547Z",
     "shell.execute_reply": "2023-05-16T21:55:39.720083Z",
     "shell.execute_reply.started": "2023-05-16T21:55:39.593138Z"
    },
    "tags": []
   },
   "outputs": [
    {
     "name": "stdout",
     "output_type": "stream",
     "text": [
      "Generating Gurobi problem for tiny...\n",
      "Greedy solving for time horizon estimation\n",
      "Adding jobs/tasks variables and constraints...\n",
      "Creating running tables...\n",
      "Creating machines and operators task assignments tables...\n",
      "Creating machines and operators business tables...\n",
      "Adding objective function...\n",
      "Gurobi problem generated.\n"
     ]
    }
   ],
   "source": [
    "gurobi_prob.generate_problem()"
   ]
  },
  {
   "cell_type": "code",
   "execution_count": 17,
   "metadata": {
    "execution": {
     "iopub.execute_input": "2023-05-16T21:55:41.256879Z",
     "iopub.status.busy": "2023-05-16T21:55:41.256479Z",
     "iopub.status.idle": "2023-05-16T21:55:41.277912Z",
     "shell.execute_reply": "2023-05-16T21:55:41.277515Z",
     "shell.execute_reply.started": "2023-05-16T21:55:41.256864Z"
    },
    "tags": []
   },
   "outputs": [
    {
     "name": "stdout",
     "output_type": "stream",
     "text": [
      "Problem saved to lp_problems/gurobi_tiny.mps\n"
     ]
    }
   ],
   "source": [
    "gurobi_prob.savefile()"
   ]
  },
  {
   "cell_type": "code",
   "execution_count": 18,
   "metadata": {
    "execution": {
     "iopub.execute_input": "2023-05-16T21:55:44.331973Z",
     "iopub.status.busy": "2023-05-16T21:55:44.331813Z",
     "iopub.status.idle": "2023-05-16T21:55:44.338605Z",
     "shell.execute_reply": "2023-05-16T21:55:44.338104Z",
     "shell.execute_reply.started": "2023-05-16T21:55:44.331959Z"
    },
    "tags": []
   },
   "outputs": [],
   "source": [
    "gurobi_prob.inst.greedy_solve()\n",
    "gurobi_prob.warmup()"
   ]
  },
  {
   "cell_type": "markdown",
   "metadata": {},
   "source": [
    "PreSolve (more aggressive application of presolve takes more time, but can sometimes lead to a significantly tighter model):\n",
    "- -1: automatic setting\n",
    "- 0: off\n",
    "- 1: conservative\n",
    "- 2: aggressive"
   ]
  },
  {
   "cell_type": "markdown",
   "metadata": {},
   "source": [
    "Method (algorithm used to solve the initial root relaxation of the MIP model):\n",
    "- -1: automatic\n",
    "- 0: primal simplex\n",
    "- 1: dual simplex\n",
    "- 2: barrier\n",
    "- 3: concurrent\n",
    "- 4: deterministic concurrent\n",
    "- 5: deterministic concurrent simplex"
   ]
  },
  {
   "cell_type": "code",
   "execution_count": 19,
   "metadata": {
    "execution": {
     "iopub.execute_input": "2023-05-16T21:55:55.821886Z",
     "iopub.status.busy": "2023-05-16T21:55:55.821706Z",
     "iopub.status.idle": "2023-05-16T21:55:55.830066Z",
     "shell.execute_reply": "2023-05-16T21:55:55.829399Z",
     "shell.execute_reply.started": "2023-05-16T21:55:55.821873Z"
    },
    "tags": []
   },
   "outputs": [
    {
     "name": "stdout",
     "output_type": "stream",
     "text": [
      "Set parameter Presolve to value 2\n",
      "Set parameter TimeLimit to value 1800\n"
     ]
    }
   ],
   "source": [
    "gurobi_prob.m.Params.PreSolve = 2\n",
    "gurobi_prob.m.Params.Method = -1\n",
    "gurobi_prob.m.Params.TimeLimit = 30*60"
   ]
  },
  {
   "cell_type": "code",
   "execution_count": 20,
   "metadata": {
    "execution": {
     "iopub.execute_input": "2023-05-16T21:55:56.922970Z",
     "iopub.status.busy": "2023-05-16T21:55:56.922027Z",
     "iopub.status.idle": "2023-05-16T21:55:57.368293Z",
     "shell.execute_reply": "2023-05-16T21:55:57.367878Z",
     "shell.execute_reply.started": "2023-05-16T21:55:56.922904Z"
    },
    "tags": []
   },
   "outputs": [
    {
     "name": "stdout",
     "output_type": "stream",
     "text": [
      "Gurobi Optimizer version 10.0.1 build v10.0.1rc0 (linux64)\n",
      "\n",
      "CPU model: Intel(R) Core(TM) i5-10300H CPU @ 2.50GHz, instruction set [SSE2|AVX|AVX2]\n",
      "Thread count: 4 physical cores, 8 logical processors, using up to 8 threads\n",
      "\n",
      "Optimize a model with 841 rows, 5777 columns and 4465 nonzeros\n",
      "Model fingerprint: 0x450fb46c\n",
      "Model has 6353 general constraints\n",
      "Variable types: 0 continuous, 5777 integer (1881 binary)\n",
      "Coefficient statistics:\n",
      "  Matrix range     [1e+00, 1e+00]\n",
      "  Objective range  [1e+00, 8e+01]\n",
      "  Bounds range     [1e+00, 1e+00]\n",
      "  RHS range        [1e+00, 2e+01]\n",
      "  GenCon rhs range [1e+00, 2e+01]\n",
      "  GenCon coe range [1e+00, 1e+00]\n",
      "Presolve added 4446 rows and 0 columns\n",
      "Presolve removed 0 rows and 2224 columns\n",
      "Presolve time: 0.39s\n",
      "Presolved: 5287 rows, 3553 columns, 18854 nonzeros\n",
      "Variable types: 0 continuous, 3553 integer (3503 binary)\n",
      "Found heuristic solution: objective 1619.0000000\n",
      "Found heuristic solution: objective 873.0000000\n",
      "Found heuristic solution: objective 465.0000000\n",
      "\n",
      "Explored 0 nodes (0 simplex iterations) in 0.43 seconds (0.37 work units)\n",
      "Thread count was 8 (of 8 available processors)\n",
      "\n",
      "Solution count 3: 465 873 1619 \n",
      "\n",
      "Optimal solution found (tolerance 1.00e-04)\n",
      "Best objective 4.650000000000e+02, best bound 4.650000000000e+02, gap 0.0000%\n"
     ]
    }
   ],
   "source": [
    "gurobi_prob.solve()"
   ]
  },
  {
   "cell_type": "code",
   "execution_count": 21,
   "metadata": {
    "execution": {
     "iopub.execute_input": "2023-05-16T21:56:00.070411Z",
     "iopub.status.busy": "2023-05-16T21:56:00.070189Z",
     "iopub.status.idle": "2023-05-16T21:56:00.077299Z",
     "shell.execute_reply": "2023-05-16T21:56:00.076878Z",
     "shell.execute_reply.started": "2023-05-16T21:56:00.070399Z"
    },
    "tags": []
   },
   "outputs": [
    {
     "name": "stdout",
     "output_type": "stream",
     "text": [
      "Problem status: OPTIMAL\n",
      "Obective value: 465.0\n"
     ]
    }
   ],
   "source": [
    "gurobi_prob.show_status()"
   ]
  },
  {
   "cell_type": "code",
   "execution_count": null,
   "metadata": {},
   "outputs": [],
   "source": []
  }
 ],
 "metadata": {
  "kernelspec": {
   "display_name": "Python 3 (ipykernel)",
   "language": "python",
   "name": "python3"
  },
  "language_info": {
   "codemirror_mode": {
    "name": "ipython",
    "version": 3
   },
   "file_extension": ".py",
   "mimetype": "text/x-python",
   "name": "python",
   "nbconvert_exporter": "python",
   "pygments_lexer": "ipython3",
   "version": "3.11.3"
  }
 },
 "nbformat": 4,
 "nbformat_minor": 4
}
