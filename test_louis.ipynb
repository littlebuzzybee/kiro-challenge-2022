{
 "cells": [
  {
   "cell_type": "code",
   "execution_count": 20,
   "id": "67df02cc-84de-4d09-8a7d-3cad42c7c68f",
   "metadata": {},
   "outputs": [],
   "source": [
    "import numpy as np\n",
    "import json"
   ]
  },
  {
   "cell_type": "code",
   "execution_count": 21,
   "id": "05f7b54b-cbc2-4fc6-b92c-7106e65efdff",
   "metadata": {},
   "outputs": [],
   "source": [
    "filename = \"tiny.json\""
   ]
  },
  {
   "cell_type": "code",
   "execution_count": 22,
   "id": "c1055c95-a114-4105-89fb-af44466c683b",
   "metadata": {},
   "outputs": [],
   "source": [
    "with open(filename, 'rb') as f:\n",
    "    inst = json.load(f)"
   ]
  },
  {
   "cell_type": "code",
   "execution_count": 27,
   "id": "0a21ed9f-9502-4069-a5e7-0b84424f0fac",
   "metadata": {},
   "outputs": [],
   "source": [
    "def parser_jobs(jobs):\n",
    "    parsed = []\n",
    "    for job in jobs:\n",
    "        j  = job['job']\n",
    "        Sj = job['sequence']\n",
    "        rj = job['release_date']\n",
    "        dj = job['due_date']\n",
    "        wj = job['weight']\n",
    "        parsed.append((j, Sj, rj, dj, wj))\n",
    "    return parsed\n",
    "\n",
    "def parser_tasks(tasks):\n",
    "    parsed = []\n",
    "    for task in tasks:\n",
    "        i = task['task']\n",
    "        pi = task['processing_time']\n",
    "        Mi = parser_machines(task['machines'])\n",
    "        parsed.append((i, pi, Mi))\n",
    "    return parsed\n",
    "\n",
    "def parser_machines(machines):\n",
    "    parsed = []\n",
    "    for machine in machines:\n",
    "        m = machine['machine']\n",
    "        Oim = machine['operators']\n",
    "        parsed.append((m, Oim))\n",
    "    return parsed\n",
    "\n",
    "def parser_inst(inst):\n",
    "    J = inst['parameters']['size']['nb_jobs']\n",
    "    I = inst['parameters']['size']['nb_tasks']\n",
    "    M = inst['parameters']['size']['nb_machines']\n",
    "    O = inst['parameters']['size']['nb_operators']\n",
    "    a = inst['parameters']['costs']['unit_penalty']\n",
    "    b = inst['parameters']['costs']['tardiness']\n",
    "    jobs = parser_jobs(inst['jobs'])\n",
    "    tasks = parser_tasks(inst['tasks'])\n",
    "    return (J, I, M, O, a, b, jobs, tasks)"
   ]
  },
  {
   "cell_type": "code",
   "execution_count": 28,
   "id": "577f474d-e604-44bd-b5a9-3017459f359b",
   "metadata": {},
   "outputs": [],
   "source": [
    "(J, I, M, O, a, b, jobs, tasks) = parser_inst(inst)"
   ]
  },
  {
   "cell_type": "code",
   "execution_count": 33,
   "id": "d90aff1a-827f-4c93-8a67-132eac812007",
   "metadata": {},
   "outputs": [
    {
     "name": "stdout",
     "output_type": "stream",
     "text": [
      "J=5\n",
      "I=25\n",
      "M=8\n",
      "O=6\n",
      "a=6\n",
      "b=1\n"
     ]
    }
   ],
   "source": [
    "print(f\"J={J}\\nI={I}\\nM={M}\\nO={a}\\na={a}\\nb={b}\")"
   ]
  },
  {
   "cell_type": "code",
   "execution_count": 29,
   "id": "9611f021-68f2-49c8-adbe-12b9c1892cd5",
   "metadata": {},
   "outputs": [
    {
     "data": {
      "text/plain": [
       "[(1, [1, 9, 10, 15, 16], 2, 8, 6),\n",
       " (2, [2, 8, 14, 18, 20, 22, 24], 1, 10, 9),\n",
       " (3, [3, 7, 19], 6, 9, 3),\n",
       " (4, [4, 6, 11, 12, 13, 17, 21, 23, 25], 5, 19, 14),\n",
       " (5, [5], 9, 10, 1)]"
      ]
     },
     "execution_count": 29,
     "metadata": {},
     "output_type": "execute_result"
    }
   ],
   "source": [
    "jobs #"
   ]
  },
  {
   "cell_type": "code",
   "execution_count": 30,
   "id": "34d9e32d-fc00-484e-a026-d10aaef96b91",
   "metadata": {},
   "outputs": [
    {
     "data": {
      "text/plain": [
       "[(1, 1, [(1, [1, 4, 5, 7])]),\n",
       " (2, 1, [(6, [1, 2, 3, 5])]),\n",
       " (3, 1, [(4, [1, 4, 7])]),\n",
       " (4, 2, [(2, [1, 2, 4, 5, 7]), (7, [2, 4, 5, 7, 8])]),\n",
       " (5, 1, [(2, [1, 2, 3, 4, 6, 8]), (6, [2, 3, 4, 6])]),\n",
       " (6, 2, [(1, [1, 2]), (3, [2, 8])]),\n",
       " (7, 1, [(5, [1, 2, 3, 7, 8])]),\n",
       " (8, 1, [(4, [2]), (7, [2, 6])]),\n",
       " (9, 1, [(6, [1, 2, 4, 8])]),\n",
       " (10, 1, [(8, [3, 5, 8])]),\n",
       " (11, 2, [(1, [8]), (3, [8]), (4, [7, 8]), (7, [1, 7, 8]), (8, [1, 7, 8])]),\n",
       " (12,\n",
       "  1,\n",
       "  [(2, [2, 3, 4, 7, 8]),\n",
       "   (3, [2, 3, 4, 5, 7, 8]),\n",
       "   (5, [2, 3, 4, 5, 7, 8]),\n",
       "   (7, [2, 7, 8])]),\n",
       " (13, 1, [(3, [2, 4, 7]), (6, [2, 4, 7, 8])]),\n",
       " (14, 2, [(1, [2, 6, 8]), (5, [5]), (8, [2, 6, 8])]),\n",
       " (15, 2, [(1, [2, 4, 7, 8]), (7, [4, 7, 8])]),\n",
       " (16, 1, [(5, [2, 3, 5, 6, 7])]),\n",
       " (17, 2, [(2, [5]), (6, [5, 7]), (7, [7])]),\n",
       " (18, 1, [(1, [2, 3, 5, 6]), (5, [2, 3, 5, 6, 7])]),\n",
       " (19, 1, [(1, [4, 5, 7]), (2, [1, 4, 5, 7]), (6, [4, 7, 8]), (8, [1, 7, 8])]),\n",
       " (20, 2, [(1, [6, 7])]),\n",
       " (21, 2, [(3, [8]), (4, [7]), (6, [5, 7])]),\n",
       " (22, 1, [(5, [4, 7]), (8, [3, 4, 5])]),\n",
       " (23, 1, [(3, [5]), (5, [7]), (8, [5, 7])]),\n",
       " (24, 1, [(2, [2, 6]), (4, [2, 4, 7])]),\n",
       " (25, 1, [(5, [4, 6, 8]), (7, [6, 8]), (8, [1, 6, 8])])]"
      ]
     },
     "execution_count": 30,
     "metadata": {},
     "output_type": "execute_result"
    }
   ],
   "source": [
    "tasks"
   ]
  },
  {
   "cell_type": "code",
   "execution_count": null,
   "id": "682e3559-d5df-4409-b03e-a30ea505f878",
   "metadata": {},
   "outputs": [],
   "source": []
  }
 ],
 "metadata": {
  "kernelspec": {
   "display_name": "Python 3 (ipykernel)",
   "language": "python",
   "name": "python3"
  },
  "language_info": {
   "codemirror_mode": {
    "name": "ipython",
    "version": 3
   },
   "file_extension": ".py",
   "mimetype": "text/x-python",
   "name": "python",
   "nbconvert_exporter": "python",
   "pygments_lexer": "ipython3",
   "version": "3.9.15"
  }
 },
 "nbformat": 4,
 "nbformat_minor": 5
}
