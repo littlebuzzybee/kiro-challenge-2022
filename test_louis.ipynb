{
 "cells": [
  {
   "cell_type": "code",
   "execution_count": 34,
   "id": "67df02cc-84de-4d09-8a7d-3cad42c7c68f",
   "metadata": {},
   "outputs": [],
   "source": [
    "import numpy as np\n",
    "import json"
   ]
  },
  {
   "cell_type": "code",
   "execution_count": 35,
   "id": "05f7b54b-cbc2-4fc6-b92c-7106e65efdff",
   "metadata": {},
   "outputs": [],
   "source": [
    "filename = \"tiny.json\""
   ]
  },
  {
   "cell_type": "code",
   "execution_count": 36,
   "id": "c1055c95-a114-4105-89fb-af44466c683b",
   "metadata": {},
   "outputs": [],
   "source": [
    "with open(filename, 'rb') as f:\n",
    "    inst = json.load(f)"
   ]
  },
  {
   "cell_type": "code",
   "execution_count": 37,
   "id": "0a21ed9f-9502-4069-a5e7-0b84424f0fac",
   "metadata": {},
   "outputs": [],
   "source": [
    "def parser_jobs(jobs):\n",
    "    parsed = []\n",
    "    for job in jobs:\n",
    "        j  = job['job']\n",
    "        Sj = job['sequence']\n",
    "        rj = job['release_date']\n",
    "        dj = job['due_date']\n",
    "        wj = job['weight']\n",
    "        parsed.append((j, Sj, rj, dj, wj))\n",
    "    return parsed\n",
    "\n",
    "def parser_tasks(tasks):\n",
    "    parsed = []\n",
    "    for task in tasks:\n",
    "        i = task['task']\n",
    "        pi = task['processing_time']\n",
    "        Mi = parser_machines(task['machines'])\n",
    "        parsed.append((i, pi, Mi))\n",
    "    return parsed\n",
    "\n",
    "def parser_machines(machines):\n",
    "    parsed = []\n",
    "    for machine in machines:\n",
    "        m = machine['machine']\n",
    "        Oim = machine['operators']\n",
    "        parsed.append((m, Oim))\n",
    "    return parsed\n",
    "\n",
    "def parser_inst(inst):\n",
    "    J = inst['parameters']['size']['nb_jobs']\n",
    "    I = inst['parameters']['size']['nb_tasks']\n",
    "    M = inst['parameters']['size']['nb_machines']\n",
    "    O = inst['parameters']['size']['nb_operators']\n",
    "    a = inst['parameters']['costs']['unit_penalty']\n",
    "    b = inst['parameters']['costs']['tardiness']\n",
    "    jobs = parser_jobs(inst['jobs'])\n",
    "    tasks = parser_tasks(inst['tasks'])\n",
    "    return (J, I, M, O, a, b, jobs, tasks)"
   ]
  },
  {
   "cell_type": "code",
   "execution_count": 38,
   "id": "577f474d-e604-44bd-b5a9-3017459f359b",
   "metadata": {},
   "outputs": [],
   "source": [
    "(J, I, M, O, a, b, jobs, tasks) = parser_inst(inst)"
   ]
  },
  {
   "cell_type": "code",
   "execution_count": 39,
   "id": "d90aff1a-827f-4c93-8a67-132eac812007",
   "metadata": {},
   "outputs": [
    {
     "name": "stdout",
     "output_type": "stream",
     "text": [
      "J=5\n",
      "I=25\n",
      "M=8\n",
      "O=6\n",
      "a=6\n",
      "b=1\n"
     ]
    }
   ],
   "source": [
    "print(f\"J={J}\\nI={I}\\nM={M}\\nO={a}\\na={a}\\nb={b}\")"
   ]
  },
  {
   "cell_type": "code",
   "execution_count": 40,
   "id": "9611f021-68f2-49c8-adbe-12b9c1892cd5",
   "metadata": {},
   "outputs": [
    {
     "data": {
      "text/plain": [
       "[(1, [1, 9, 10, 15, 16], 2, 8, 6),\n",
       " (2, [2, 8, 14, 18, 20, 22, 24], 1, 10, 9),\n",
       " (3, [3, 7, 19], 6, 9, 3),\n",
       " (4, [4, 6, 11, 12, 13, 17, 21, 23, 25], 5, 19, 14),\n",
       " (5, [5], 9, 10, 1)]"
      ]
     },
     "execution_count": 40,
     "metadata": {},
     "output_type": "execute_result"
    }
   ],
   "source": [
    "jobs"
   ]
  },
  {
   "cell_type": "code",
   "execution_count": 42,
   "id": "34d9e32d-fc00-484e-a026-d10aaef96b91",
   "metadata": {},
   "outputs": [
    {
     "data": {
      "text/plain": [
       "[(1, 1, [(1, [1, 4, 5, 7])]),\n",
       " (2, 1, [(6, [1, 2, 3, 5])]),\n",
       " (3, 1, [(4, [1, 4, 7])]),\n",
       " (4, 2, [(2, [1, 2, 4, 5, 7]), (7, [2, 4, 5, 7, 8])]),\n",
       " (5, 1, [(2, [1, 2, 3, 4, 6, 8]), (6, [2, 3, 4, 6])]),\n",
       " (6, 2, [(1, [1, 2]), (3, [2, 8])]),\n",
       " (7, 1, [(5, [1, 2, 3, 7, 8])]),\n",
       " (8, 1, [(4, [2]), (7, [2, 6])]),\n",
       " (9, 1, [(6, [1, 2, 4, 8])]),\n",
       " (10, 1, [(8, [3, 5, 8])])]"
      ]
     },
     "execution_count": 42,
     "metadata": {},
     "output_type": "execute_result"
    }
   ],
   "source": [
    "tasks[:10]"
   ]
  },
  {
   "cell_type": "code",
   "execution_count": 43,
   "id": "682e3559-d5df-4409-b03e-a30ea505f878",
   "metadata": {},
   "outputs": [
    {
     "data": {
      "text/plain": [
       "[(1, [1, 9, 10, 15, 16], 2, 8, 6),\n",
       " (2, [2, 8, 14, 18, 20, 22, 24], 1, 10, 9),\n",
       " (3, [3, 7, 19], 6, 9, 3),\n",
       " (4, [4, 6, 11, 12, 13, 17, 21, 23, 25], 5, 19, 14),\n",
       " (5, [5], 9, 10, 1)]"
      ]
     },
     "execution_count": 43,
     "metadata": {},
     "output_type": "execute_result"
    }
   ],
   "source": [
    "sorted(jobs)"
   ]
  },
  {
   "cell_type": "code",
   "execution_count": null,
   "id": "db8c06b6-11f1-4b6d-8cfd-d43887fc1f9d",
   "metadata": {},
   "outputs": [],
   "source": []
  }
 ],
 "metadata": {
  "kernelspec": {
   "display_name": "Python 3 (ipykernel)",
   "language": "python",
   "name": "python3"
  },
  "language_info": {
   "codemirror_mode": {
    "name": "ipython",
    "version": 3
   },
   "file_extension": ".py",
   "mimetype": "text/x-python",
   "name": "python",
   "nbconvert_exporter": "python",
   "pygments_lexer": "ipython3",
   "version": "3.9.15"
  }
 },
 "nbformat": 4,
 "nbformat_minor": 5
}
