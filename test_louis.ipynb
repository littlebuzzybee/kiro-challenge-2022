{
 "cells": [
  {
   "cell_type": "code",
   "execution_count": 149,
   "id": "67df02cc-84de-4d09-8a7d-3cad42c7c68f",
   "metadata": {},
   "outputs": [],
   "source": [
    "import numpy as np\n",
    "from numpy import setdiff1d as sd\n",
    "from numpy import intersect1d as inter\n",
    "import json"
   ]
  },
  {
   "cell_type": "code",
   "execution_count": 230,
   "id": "05f7b54b-cbc2-4fc6-b92c-7106e65efdff",
   "metadata": {},
   "outputs": [],
   "source": [
    "in_filename = \"instances/huge.json\""
   ]
  },
  {
   "cell_type": "code",
   "execution_count": 231,
   "id": "c1055c95-a114-4105-89fb-af44466c683b",
   "metadata": {},
   "outputs": [],
   "source": [
    "with open(in_filename, 'rb') as f:\n",
    "    inst = json.load(f)"
   ]
  },
  {
   "cell_type": "code",
   "execution_count": 232,
   "id": "0a21ed9f-9502-4069-a5e7-0b84424f0fac",
   "metadata": {},
   "outputs": [],
   "source": [
    "def parser_jobs(jobs):\n",
    "    parsed = []\n",
    "    for job in jobs:\n",
    "        j  = job['job']\n",
    "        Sj = job['sequence']\n",
    "        rj = job['release_date']\n",
    "        dj = job['due_date']\n",
    "        wj = job['weight']\n",
    "        parsed.append((j, Sj, rj, dj, wj))\n",
    "    return parsed\n",
    "\n",
    "def parser_tasks(tasks):\n",
    "    parsed = []\n",
    "    for task in tasks:\n",
    "        i = task['task']\n",
    "        pi = task['processing_time']\n",
    "        Mi = parser_machines(task['machines'])\n",
    "        parsed.append((i, pi, Mi))\n",
    "    return parsed\n",
    "\n",
    "def parser_machines(machines):\n",
    "    parsed = []\n",
    "    for machine in machines:\n",
    "        m = machine['machine']\n",
    "        Oim = machine['operators']\n",
    "        parsed.append((m, Oim))\n",
    "    return parsed\n",
    "\n",
    "def parser_inst(inst):\n",
    "    J = inst['parameters']['size']['nb_jobs']\n",
    "    I = inst['parameters']['size']['nb_tasks']\n",
    "    M = inst['parameters']['size']['nb_machines']\n",
    "    O = inst['parameters']['size']['nb_operators']\n",
    "    a = inst['parameters']['costs']['unit_penalty']\n",
    "    b = inst['parameters']['costs']['tardiness']\n",
    "    jobs = parser_jobs(inst['jobs'])\n",
    "    tasks = parser_tasks(inst['tasks'])\n",
    "    return (J, I, M, O, a, b, jobs, tasks)"
   ]
  },
  {
   "cell_type": "code",
   "execution_count": 233,
   "id": "577f474d-e604-44bd-b5a9-3017459f359b",
   "metadata": {},
   "outputs": [],
   "source": [
    "(J, I, M, O, a, b, jobs, tasks) = parser_inst(inst)"
   ]
  },
  {
   "cell_type": "code",
   "execution_count": 234,
   "id": "d90aff1a-827f-4c93-8a67-132eac812007",
   "metadata": {},
   "outputs": [
    {
     "name": "stdout",
     "output_type": "stream",
     "text": [
      "J=200\n",
      "I=1000\n",
      "M=50\n",
      "O=6\n",
      "a=6\n",
      "b=1\n"
     ]
    }
   ],
   "source": [
    "print(f\"J={J}\\nI={I}\\nM={M}\\nO={a}\\na={a}\\nb={b}\")"
   ]
  },
  {
   "cell_type": "code",
   "execution_count": 235,
   "id": "db8c06b6-11f1-4b6d-8cfd-d43887fc1f9d",
   "metadata": {},
   "outputs": [
    {
     "name": "stdout",
     "output_type": "stream",
     "text": [
      "10\n",
      "20\n",
      "30\n",
      "40\n",
      "50\n",
      "60\n",
      "70\n",
      "80\n",
      "90\n",
      "100\n"
     ]
    }
   ],
   "source": [
    "running = []\n",
    "done = []\n",
    "busy_operators = []\n",
    "busy_machines = []\n",
    "\n",
    "T = 0\n",
    "while len(done) < I:\n",
    "    for j in jobs:\n",
    "        if T >= j[2]: # it is past the release date of this job\n",
    "            for (t_idx, task_id) in enumerate(j[1]): # loop over tasks for this job\n",
    "                t = tasks[task_id-1] # get full task for this task id\n",
    "                for m in t[2]: # look for a machine to start the task on\n",
    "                    m_id = m[0] # get this machine's id\n",
    "                    for op_id in m[1]: # look for an operator to operate machine\n",
    "                        if (not op_id in busy_operators) \\\n",
    "                        and (not m_id in busy_machines) \\\n",
    "                        and (not task_id in [_[0] for _ in running]) \\\n",
    "                        and (not task_id in [_[0] for _ in done]) \\\n",
    "                        and inter(j[1][:t_idx], [_[0] for _ in running]).size == 0 \\\n",
    "                        and np.isin(j[1][:t_idx], [_[0] for _ in done]).all(): # all prior tasks done\n",
    "                            running.append((task_id, T, m_id, op_id))\n",
    "                            busy_operators.append(op_id)\n",
    "                            busy_machines.append(m_id)\n",
    "    for running_task in running:\n",
    "        t_id, start_time, m_id, op_id = running_task\n",
    "        processing_time = tasks[t_id-1][1]\n",
    "        if (T - start_time >= processing_time):\n",
    "            running = [_ for _ in running if _[0] != t_id]\n",
    "            busy_operators.remove(op_id)\n",
    "            busy_machines.remove(m_id)\n",
    "            done.append((t_id, start_time, m_id, op_id))\n",
    "        \n",
    "    T += 1 # time flows\n",
    "    if T % 10 == 0:\n",
    "        print(T)"
   ]
  },
  {
   "cell_type": "code",
   "execution_count": 236,
   "id": "69cfce61-d2f9-473b-87e3-082ab515f400",
   "metadata": {},
   "outputs": [],
   "source": [
    "def jsonify(done):\n",
    "    res = []\n",
    "    for task in done:\n",
    "        sub_res = {}\n",
    "        sub_res['task'], sub_res['start'], sub_res['machine'], sub_res['operator'] = task\n",
    "        res.append(sub_res)\n",
    "    return res"
   ]
  },
  {
   "cell_type": "code",
   "execution_count": 237,
   "id": "19c6024c-8dd0-4693-84f7-073b0adecbdc",
   "metadata": {},
   "outputs": [],
   "source": [
    "out_filename = \"KIRO-huge.json\""
   ]
  },
  {
   "cell_type": "code",
   "execution_count": 238,
   "id": "50ba3f90-875e-4f94-8171-dbade7384470",
   "metadata": {},
   "outputs": [],
   "source": [
    "with open(out_filename, 'w') as f:\n",
    "    json.dump(jsonify(done), f)"
   ]
  },
  {
   "cell_type": "code",
   "execution_count": null,
   "id": "017e3d71-fe89-4ddb-9e0f-698b3f89d4dd",
   "metadata": {},
   "outputs": [],
   "source": []
  },
  {
   "cell_type": "code",
   "execution_count": null,
   "id": "dc20f679-e422-4ee2-9ff3-0686e4d33a3e",
   "metadata": {},
   "outputs": [],
   "source": []
  }
 ],
 "metadata": {
  "kernelspec": {
   "display_name": "Python 3 (ipykernel)",
   "language": "python",
   "name": "python3"
  },
  "language_info": {
   "codemirror_mode": {
    "name": "ipython",
    "version": 3
   },
   "file_extension": ".py",
   "mimetype": "text/x-python",
   "name": "python",
   "nbconvert_exporter": "python",
   "pygments_lexer": "ipython3",
   "version": "3.9.15"
  }
 },
 "nbformat": 4,
 "nbformat_minor": 5
}
